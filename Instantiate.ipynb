{
 "cells": [
  {
   "cell_type": "code",
   "execution_count": 1,
   "metadata": {},
   "outputs": [
    {
     "data": {
      "text/plain": [
       "\"/home/wkh/XLA.jl/Project.toml\""
      ]
     },
     "execution_count": 1,
     "metadata": {},
     "output_type": "execute_result"
    }
   ],
   "source": [
    "using Pkg\n",
    "Pkg.activate(\"/home/wkh/XLA.jl\")"
   ]
  },
  {
   "cell_type": "code",
   "execution_count": 3,
   "metadata": {},
   "outputs": [
    {
     "name": "stdout",
     "output_type": "stream",
     "text": [
      "\u001b[32m\u001b[1m  Updating\u001b[22m\u001b[39m registry at `~/.julia/registries/General`\n",
      "\u001b[32m\u001b[1m  Updating\u001b[22m\u001b[39m git-repo `https://github.com/JuliaRegistries/General.git`\n",
      "\u001b[?25l\u001b[2K\u001b[?25h\u001b[32m\u001b[1m   Cloning\u001b[22m\u001b[39m git-repo `https://github.com/Keno/ForwardDiff.jl`\n",
      "\u001b[2K\u001b[?25h[1mFetching:\u001b[22m\u001b[39m [========================================>]  100.0 %.0 %12.2 %>                              ]  24.3 %\u001b[36m\u001b[1mFetching:\u001b[22m\u001b[39m [==============>                          ]  33.2 %>                     ]  45.3 %=======================>                 ]  57.4 %]  69.5 % [=================================>       ]  80.6 %  ]  92.6 %\u001b[32m\u001b[1m   Cloning\u001b[22m\u001b[39m git-repo `https://github.com/cstjean/Unrolled.jl.git`\n",
      "\u001b[2K\u001b[?25h\u001b[32m\u001b[1m   Cloning\u001b[22m\u001b[39m git-repo `https://github.com/FluxML/Zygote.jl.git`5.0 %\n",
      "\u001b[2K\u001b[?25h\u001b[32m\u001b[1m   Cloning\u001b[22m\u001b[39m git-repo `https://github.com/Keno/IRTools.jl`.0 %12.8 %>                              ]  22.5 %>                    ]  48.0 % [=========================>               ]  60.8 %73.5 %>     ]  86.3 %\u001b[36m\u001b[1mFetching:\u001b[22m\u001b[39m [=======================================> ]  95.6 %\n",
      "\u001b[2K\u001b[?25h\u001b[32m\u001b[1m   Cloning\u001b[22m\u001b[39m git-repo `https://github.com/JuliaComputing/BFloat16s.jl.git`\n",
      "\u001b[2K\u001b[?25h\u001b[32m\u001b[1m   Cloning\u001b[22m\u001b[39m git-repo `https://github.com/FluxML/Flux.jl.git`%\n",
      "\u001b[2K\u001b[?25h\u001b[32m\u001b[1m   Cloning\u001b[22m\u001b[39m git-repo `https://github.com/FluxML/NNlib.jl`.0 %]  21.0 %==============>                          ]  33.7 %]  43.5 %=======================>                 ]  56.2 %]  68.8 % [=================================>       ]  81.5 %  ]  94.1 %\u001b[36m\u001b[1mFetching:\u001b[22m\u001b[39m [=======================================> ]  96.3 %\n",
      "\u001b[2K\u001b[?25h\u001b[32m\u001b[1m   Cloning\u001b[22m\u001b[39m git-repo `https://github.com/andreasnoack/TSVD.jl.git`%>                             ]  26.0 %\u001b[36m\u001b[1mFetching:\u001b[22m\u001b[39m [================>                        ]  39.1 %>                   ]  52.0 %===========================>             ]  65.0 %65.2 %>        ]  78.3 % [=====================================>   ]  91.3 %\n",
      "\u001b[2K\u001b[?25h\u001b[32m\u001b[1m   Cloning\u001b[22m\u001b[39m git-repo `https://github.com/JuliaIO/ProtoBuf.jl.git`m\u001b[1mFetching:\u001b[22m\u001b[39m [============>                            ]  29.4 %\u001b[36m\u001b[1mFetching:\u001b[22m\u001b[39m [===============>                         ]  37.1 %>             ]  66.3 %=======================================> ]  95.6 %\n",
      "\u001b[2K\u001b[?25h\u001b[32m\u001b[1m   Cloning\u001b[22m\u001b[39m git-repo `https://github.com/JuliaComputing/TensorFlow.jl`                                ]  18.3 %36.5 %======================>                  ]  54.8 %]  72.9 %> ]  97.1 %\n",
      "    \u001b[36m\u001b[1mFetching:\u001b[22m\u001b[39m [=================================>       ]  80.6 %0.0 %12.5 %\u001b[36m\u001b[1mFetching:\u001b[22m\u001b[39m [=======>                                 ]  17.1 %                            ]  29.5 %\u001b[36m\u001b[1mFetching:\u001b[22m\u001b[39m [=================>                       ]  42.0 %>                  ]  54.4 %>            ]  68.2 %"
     ]
    },
    {
     "name": "stderr",
     "output_type": "stream",
     "text": [
      "Excessive output truncated after 524290 bytes."
     ]
    },
    {
     "name": "stdout",
     "output_type": "stream",
     "text": [
      " [=================================>       ]  80.7 %\r",
      "    \u001b[36m\u001b[1mFetching:\u001b[22m\u001b[39m [=================================>       ]  80.8 %\r",
      "    \u001b[36m\u001b[1mFetching:\u001b[22m\u001b[39m [=================================>       ]  80.9 %\r",
      "    \u001b[36m\u001b[1mFetching:\u001b[22m\u001b[39m [=================================>       "
     ]
    }
   ],
   "source": [
    "Pkg.instantiate()"
   ]
  },
  {
   "cell_type": "code",
   "execution_count": 5,
   "metadata": {},
   "outputs": [
    {
     "name": "stdout",
     "output_type": "stream",
     "text": [
      "\u001b[32m\u001b[1m  Updating\u001b[22m\u001b[39m git-repo `https://github.com/cstjean/Unrolled.jl.git`\n",
      "\u001b[?25l\u001b[2K\u001b[?25h\u001b[32m\u001b[1m Resolving\u001b[22m\u001b[39m package versions...\n",
      "\u001b[32m\u001b[1m  Updating\u001b[22m\u001b[39m `~/XLA.jl/Project.toml`\n",
      " \u001b[90m [9602ed7d]\u001b[39m\u001b[93m ~ Unrolled v0.1.3+ #master (https://github.com/cstjean/Unrolled.jl.git)\u001b[39m\n",
      "\u001b[32m\u001b[1m  Updating\u001b[22m\u001b[39m `~/XLA.jl/Manifest.toml`\n",
      " \u001b[90m [9602ed7d]\u001b[39m\u001b[93m ~ Unrolled v0.1.3+ #master (https://github.com/cstjean/Unrolled.jl.git)\u001b[39m\n"
     ]
    }
   ],
   "source": [
    "Pkg.add(PackageSpec(name=\"Unrolled\", rev=\"master\"))"
   ]
  },
  {
   "cell_type": "code",
   "execution_count": null,
   "metadata": {},
   "outputs": [],
   "source": []
  }
 ],
 "metadata": {
  "kernelspec": {
   "display_name": "Julia 1.1.0-DEV",
   "language": "julia",
   "name": "julia-1.1"
  },
  "language_info": {
   "file_extension": ".jl",
   "mimetype": "application/julia",
   "name": "julia",
   "version": "1.1.0"
  }
 },
 "nbformat": 4,
 "nbformat_minor": 2
}
