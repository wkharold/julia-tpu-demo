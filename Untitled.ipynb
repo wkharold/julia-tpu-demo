{
 "cells": [
  {
   "cell_type": "code",
   "execution_count": 1,
   "metadata": {},
   "outputs": [],
   "source": [
    "using Pkg"
   ]
  },
  {
   "cell_type": "code",
   "execution_count": 2,
   "metadata": {},
   "outputs": [
    {
     "name": "stdout",
     "output_type": "stream",
     "text": [
      "\u001b[32m\u001b[1m  Updating\u001b[22m\u001b[39m registry at `~/.julia/registries/General`\n",
      "\u001b[32m\u001b[1m  Updating\u001b[22m\u001b[39m git-repo `https://github.com/JuliaRegistries/General.git`\n",
      "\u001b[2K\u001b[?25h[1mFetching:\u001b[22m\u001b[39m [========================================>]  100.0 %.0 %\u001b[32m\u001b[1m   Cloning\u001b[22m\u001b[39m git-repo `https://github.com/Keno/ForwardDiff.jl`\n",
      "\u001b[2K\u001b[?25h[1mFetching:\u001b[22m\u001b[39m [========================================>]  100.0 %.0 %12.2 %>                              ]  24.3 %                         ]  36.7 % [====================>                    ]  48.9 %>               ]  61.7 %==============================>          ]  73.8 %]  85.9 % [========================================>]  98.1 %\u001b[32m\u001b[1m   Cloning\u001b[22m\u001b[39m git-repo `https://github.com/cstjean/Unrolled.jl.git`\n",
      "\u001b[2K\u001b[?25h\u001b[32m\u001b[1m   Cloning\u001b[22m\u001b[39m git-repo `https://github.com/FluxML/Zygote.jl.git`5.0 %\n",
      "\u001b[2K\u001b[?25h\u001b[32m\u001b[1m   Cloning\u001b[22m\u001b[39m git-repo `https://github.com/Keno/IRTools.jl`.0 %12.8 % [===========>                             ]  25.3 %38.0 %=====================>                   ]  50.8 %]  63.4 %===============================>         ]  76.2 %]  88.9 %\n",
      "\u001b[2K\u001b[?25h\u001b[32m\u001b[1m   Cloning\u001b[22m\u001b[39m git-repo `https://github.com/JuliaComputing/BFloat16s.jl.git`\n",
      "\u001b[2K\u001b[?25h\u001b[32m\u001b[1m   Cloning\u001b[22m\u001b[39m git-repo `https://github.com/FluxML/Flux.jl.git`%\n",
      "\u001b[2K\u001b[?25h\u001b[32m\u001b[1m   Cloning\u001b[22m\u001b[39m git-repo `https://github.com/FluxML/NNlib.jl`.0 %12.7 %======>                                  ]  13.1 %]  25.7 %================>                        ]  38.4 %                 ]  56.7 % [============================>            ]  69.4 %]  81.9 %======================================>  ]  94.6 %\u001b[36m\u001b[1mFetching:\u001b[22m\u001b[39m [=======================================> ]  96.2 %\n",
      "\u001b[2K\u001b[?25h\u001b[32m\u001b[1m   Cloning\u001b[22m\u001b[39m git-repo `https://github.com/andreasnoack/TSVD.jl.git`%>                             ]  26.0 %\u001b[36m\u001b[1mFetching:\u001b[22m\u001b[39m [================>                        ]  39.1 %>                   ]  52.0 %===========================>             ]  65.0 %             ]  65.9 % [================================>        ]  78.9 %]  91.8 %\n",
      "\u001b[2K\u001b[?25h\u001b[32m\u001b[1m   Cloning\u001b[22m\u001b[39m git-repo `https://github.com/JuliaIO/ProtoBuf.jl.git`m\u001b[1mFetching:\u001b[22m\u001b[39m [============>                            ]  29.4 %\u001b[36m\u001b[1mFetching:\u001b[22m\u001b[39m [==============>                          ]  34.5 %>              ]  63.6 %======================================>  ]  93.0 %\n",
      "\u001b[2K\u001b[?25h\u001b[32m\u001b[1m   Cloning\u001b[22m\u001b[39m git-repo `https://github.com/JuliaComputing/TensorFlow.jl`                                ]  18.3 %36.5 %======================>                  ]  54.8 %]  72.9 %\u001b[36m\u001b[1mFetching:\u001b[22m\u001b[39m [==================================>      ]  83.7 %\n",
      "    \u001b[36m\u001b[1mFetching:\u001b[22m\u001b[39m [===========================>             ]  67.3 %0.0 %12.5 %\u001b[36m\u001b[1mFetching:\u001b[22m\u001b[39m [=======>                                 ]  15.4 %                            ]  27.8 %\u001b[36m\u001b[1mFetching:\u001b[22m\u001b[39m [=================>                       ]  40.3 %>                  ]  52.7 %"
     ]
    },
    {
     "name": "stderr",
     "output_type": "stream",
     "text": [
      "Excessive output truncated after 524290 bytes."
     ]
    },
    {
     "name": "stdout",
     "output_type": "stream",
     "text": [
      ">             ]  67.4 %\r",
      "    \u001b[36m\u001b[1mFetching:\u001b[22m\u001b[39m [===========================>             ]  67.5 %\r",
      "    \u001b[36m\u001b[1mFetching:\u001b[22m\u001b[39m [============================>            ]  67.6 %\r",
      "    \u001b[36m\u001b[1mFetching:\u001b[22m\u001b[39m [============================>            ]  67.7 %\r",
      "    \u001b[36m\u001b[1mFetching:\u001b[22m\u001b[39m [============================>            ]  67.8 %\r",
      "    \u001b[36m\u001b[1mFetching:\u001b[22m\u001b[39m [============================>            ]  67.9 %\r",
      "    \u001b[36m\u001b[1mFetching:\u001b[22m\u001b[39m [============================>            ]  68.0 %\r",
      "    \u001b[36m\u001b[1mFetching:\u001b[22m\u001b[39m [============================>            ]  68.1 %\r",
      "    \u001b[36m\u001b[1mFetching:\u001b[22m\u001b[39m [============================>            ]  68.2 %\r",
      "    \u001b[36m\u001b[1mFetching:\u001b[22m\u001b[39m [============================>            ]  68.3 %\r",
      "    \u001b[36m\u001b[1mFetching:\u001b[22m\u001b[39m [============================>            ]  68.4 %\r",
      "    \u001b[36m\u001b[1mFetching:\u001b[22m\u001b[39m [============================>            ]  68.5 %\r",
      "    \u001b[36m\u001b[1mFetching:\u001b[22m\u001b[39m [============================>            ]  68.6 %\r",
      "    \u001b[36m\u001b[1mFetching:\u001b[22m\u001b[39m [============================>            ]  68.7 %\r",
      "    \u001b[36m\u001b[1mFetching:\u001b[22m\u001b[39m [============================>            ]  68.8 %\r",
      "    \u001b[36m\u001b[1mFetching:\u001b[22m\u001b[39m [============================>            ]  68.9 %\r",
      "    \u001b[36m\u001b[1mFetching:\u001b[22m\u001b[39m [============================>            ]  69.0 %\r",
      "    \u001b[36m\u001b[1mFetching:\u001b[22m\u001b[39m [============================>            ]  69.1 %\r",
      "    \u001b[36m\u001b[1mFetching:\u001b[22m\u001b[39m [============================>            ]  69.3 %\r",
      "    \u001b[36m\u001b[1mFetching:\u001b[22m\u001b[39m [============================>            ]  69.4 %\r",
      "    \u001b[36m\u001b[1mFetching:\u001b[22m\u001b[39m [============================>            ]  69.5 %\r",
      "    \u001b[36m\u001b[1mFetching:\u001b[22m\u001b[39m [============================>            ]  69.6 %\r",
      "    \u001b[36m\u001b[1mFetching:\u001b[22m\u001b[39m [============================>            ]  69.7 %\r",
      "    \u001b[36m\u001b[1mFetching:\u001b[22m\u001b[39m [============================>            ]  69.8 %\r",
      "    \u001b[36m\u001b[1mFetching:\u001b[22m\u001b[39m [============================>            ]  69.9 %\r",
      "    \u001b[36m\u001b[1mFetching:\u001b[22m\u001b[39m [============================>            ]  70.0 %\r",
      "    \u001b[36m\u001b[1mFetching:\u001b[22m\u001b[39m [=============================>           ]  70.1 %\r",
      "    \u001b[36m\u001b[1mFetching:\u001b[22m\u001b[39m [=============================>           ]  70.2 %\r",
      "    \u001b[36m\u001b[1mFetching:\u001b[22m\u001b[39m [=============================>           ]  70.3 %\r",
      "    \u001b[36m\u001b[1mFetching:\u001b[22m\u001b[39m [=============================>           ]  70.4 %\r",
      "    \u001b[36m\u001b[1mFetching:\u001b[22m\u001b[39m [=============================>           ]  70.5 %\r",
      "    \u001b[36m\u001b[1mFetching:\u001b[22m\u001b[39m [=============================>           ]  70.6 %\r",
      "    \u001b[36m\u001b[1mFetching:\u001b[22m\u001b[39m [=============================>           ]  70.7 %\r",
      "    \u001b[36m\u001b[1mFetching:\u001b[22m\u001b[39m [=============================>           ]  70.8 %\r",
      "    \u001b[36m\u001b[1mFetching:\u001b[22m\u001b[39m [=============================>           ]  70.9 %\r",
      "    \u001b[36m\u001b[1mFetching:\u001b[22m\u001b[39m [=============================>           ]  71.0 %\r",
      "    \u001b[36m\u001b[1mFetching:\u001b[22m\u001b[39m [=============================>           ]  71.1 %\r",
      "    \u001b[36m\u001b[1mFetching:\u001b[22m\u001b[39m [=============================>           ]  71.2 %\r",
      "    \u001b[36m\u001b[1mFetching:\u001b[22m\u001b[39m [=============================>           ]  71.3 %\r",
      "    \u001b[36m\u001b[1mFetching:\u001b[22m\u001b[39m [=============================>           ]  71.4 %\r",
      "    \u001b[36m\u001b[1mFetching:\u001b[22m\u001b[39m [=============================>           ]  71.5 %\r",
      "    \u001b[36m\u001b[1mFetching:\u001b[22m\u001b[39m [=============================>           ]  71.6 %\r",
      "    \u001b[36m\u001b[1mFetching:\u001b[22m\u001b[39m [=============================>           ]  71.7 %\r",
      "    \u001b[36m\u001b[1mFetching:\u001b[22m\u001b[39m [=============================>           ]  71.8 %\r",
      "    \u001b[36m\u001b[1mFetching:\u001b[22m\u001b[39m [=============================>           ]  71.9 %\r",
      "    \u001b[36m\u001b[1mFetching:\u001b[22m\u001b[39m [=============================>           ]  72.0 %\r",
      "    \u001b[36m\u001b[1mFetching:\u001b[22m\u001b[39m [=============================>           ]  72.1 %\r",
      "    \u001b[36m\u001b[1mFetching:\u001b[22m\u001b[39m [=============================>           ]  72.2 %\r",
      "    \u001b[36m\u001b[1mFetching:\u001b[22m\u001b[39m [=============================>           ]  72.4 %\r",
      "    \u001b[36m\u001b[1mFetching:\u001b[22m\u001b[39m [=============================>           ]  72.5 %\r",
      "    \u001b[36m\u001b[1mFetching:\u001b[22m\u001b[39m [==============================>          ]  72.6 %\r",
      "    \u001b[36m\u001b[1mFetching:\u001b[22m\u001b[39m [==============================>          ]  72.7 %\r",
      "    \u001b[36m\u001b[1mFetching:\u001b[22m\u001b[39m [==============================>          ]  72.8 %\r",
      "    \u001b[36m\u001b[1mFetching:\u001b[22m\u001b[39m [==============================>          ]  72.9 %\r",
      "    \u001b[36m\u001b[1mFetching:\u001b[22m\u001b[39m [==============================>          ]  73.0 %\r",
      "    \u001b[36m\u001b[1mFetching:\u001b[22m\u001b[39m [==============================>          ]  73.1 %\r",
      "    \u001b[36m\u001b[1mFetching:\u001b[22m\u001b[39m [==============================>          ]  73.2 %\r",
      "    \u001b[36m\u001b[1mFetching:\u001b[22m\u001b[39m [==============================>          ]  73.3 %\r",
      "    \u001b[36m\u001b[1mFetching:\u001b[22m\u001b[39m [==============================>          ]  73.4 %\r",
      "    \u001b[36m\u001b[1mFetching:\u001b[22m\u001b[39m [==============================>          ]  73.5 %\r",
      "    \u001b[36m\u001b[1mFetching:\u001b[22m\u001b[39m [==============================>          ]  73.6 %\r",
      "    \u001b[36m\u001b[1mFetching:\u001b[22m\u001b[39m [==============================>          ]  73.7 %\r",
      "    \u001b[36m\u001b[1mFetching:\u001b[22m\u001b[39m [==============================>          ]  73.8 %\r",
      "    \u001b[36m\u001b[1mFetching:\u001b[22m\u001b[39m [==============================>          ]  73.9 %\r",
      "    \u001b[36m\u001b[1mFetching:\u001b[22m\u001b[39m [==============================>          ]  74.0 %\r",
      "    \u001b[36m\u001b[1mFetching:\u001b[22m\u001b[39m [==============================>          ]  74.1 %\r",
      "    \u001b[36m\u001b[1mFetching:\u001b[22m\u001b[39m [==============================>          ]  74.2 %\r",
      "    \u001b[36m\u001b[1mFetching:\u001b[22m\u001b[39m [==============================>          ]  74.3 %\r",
      "    \u001b[36m\u001b[1mFetching:\u001b[22m\u001b[39m [==============================>          ]  74.4 %\r",
      "    \u001b[36m\u001b[1mFetching:\u001b[22m\u001b[39m [==============================>          ]  74.5 %\r",
      "    \u001b[36m\u001b[1mFetching:\u001b[22m\u001b[39m [==============================>          ]  74.6 %\r",
      "    \u001b[36m\u001b[1mFetching:\u001b[22m\u001b[39m [==============================>          ]  74.7 %\r",
      "    \u001b[36m\u001b[1mFetching:\u001b[22m\u001b[39m [==============================>          ]  74.8 %\r",
      "    \u001b[36m\u001b[1mFetching:\u001b[22m\u001b[39m [==============================>          ]  74.9 %\r",
      "    \u001b[36m\u001b[1mFetching:\u001b[22m\u001b[39m [===============================>         ]  75.0 %\r",
      "    \u001b[36m\u001b[1mFetching:\u001b[22m\u001b[39m [===============================>         ]  75.1 %\r",
      "    \u001b[36m\u001b[1mFetching:\u001b[22m\u001b[39m [===============================>         ]  75.2 %\r",
      "    \u001b[36m\u001b[1mFetching:\u001b[22m\u001b[39m [===============================>         ]  75.3 %\r",
      "    \u001b[36m\u001b[1mFetching:\u001b[22m\u001b[39m [===============================>         ]  75.5 %\r",
      "    \u001b[36m\u001b[1mFetching:\u001b[22m\u001b[39m [===============================>         ]  75.6 %\r",
      "    \u001b[36m\u001b[1mFetching:\u001b[22m\u001b[39m [===============================>         ]  75.7 %\r",
      "    \u001b[36m\u001b[1mFetching:\u001b[22m\u001b[39m [===============================>         ]  75.8 %\r",
      "    \u001b[36m\u001b[1mFetching:\u001b[22m\u001b[39m [===============================>         ]  75.9 %\r",
      "    \u001b[36m\u001b[1mFetching:\u001b[22m\u001b[39m [===============================>         ]  76.0 %\r",
      "    \u001b[36m\u001b[1mFetching:\u001b[22m\u001b[39m [===============================>         ]  76.1 %\r",
      "    \u001b[36m\u001b[1mFetching:\u001b[22m\u001b[39m [===============================>         ]  76.2 %\r",
      "    \u001b[36m\u001b[1mFetching:\u001b[22m\u001b[39m [===============================>         ]  76.3 %\r",
      "    \u001b[36m\u001b[1mFetching:\u001b[22m\u001b[39m [===============================>         ]  76.4 %\r",
      "    \u001b[36m\u001b[1mFetching:\u001b[22m\u001b[39m [===============================>         ]  76.5 %\r",
      "    \u001b[36m\u001b[1mFetching:\u001b[22m\u001b[39m [===============================>         ]  76.6 %\r",
      "    \u001b[36m\u001b[1mFetching:\u001b[22m\u001b[39m [===============================>         ]  76.7 %\r",
      "    \u001b[36m\u001b[1mFetching:\u001b[22m\u001b[39m [===============================>         ]  76.8 %\r",
      "    \u001b[36m\u001b[1mFetching:\u001b[22m\u001b[39m [===============================>         ]  76.9 %\r",
      "    \u001b[36m\u001b[1mFetching:\u001b[22m\u001b[39m [===============================>         ]  77.0 %\r",
      "    \u001b[36m\u001b[1mFetching:\u001b[22m\u001b[39m [===============================>         ]  77.1 %\r",
      "    \u001b[36m\u001b[1mFetching:\u001b[22m\u001b[39m [===============================>         ]  77.2 %\r",
      "    \u001b[36m\u001b[1mFetching:\u001b[22m\u001b[39m [===============================>         ]  77.3 %\r",
      "    \u001b[36m\u001b[1mFetching:\u001b[22m\u001b[39m [===============================>         ]  77.4 %\r",
      "    \u001b[36m\u001b[1mFetching:\u001b[22m\u001b[39m [================================>        ]  77.5 %\r",
      "    \u001b[36m\u001b[1mFetching:\u001b[22m\u001b[39m [================================>        ]  77.6 %\r",
      "    \u001b[36m\u001b[1mFetching:\u001b[22m\u001b[39m [================================>        ]  77.7 %\r",
      "    \u001b[36m\u001b[1mFetching:\u001b[22m\u001b[39m [================================>        ]  77.8 %\r",
      "    \u001b[36m\u001b[1mFetching:\u001b[22m\u001b[39m [================================>        ]  77.9 %\r",
      "    \u001b[36m\u001b[1mFetching:\u001b[22m\u001b[39m [================================>        ]  78.0 %\r",
      "    \u001b[36m\u001b[1mFetching:\u001b[22m\u001b[39m [================================>        ]  78.1 %\r",
      "    \u001b[36m\u001b[1mFetching:\u001b[22m\u001b[39m [================================>        ]  78.2 %\r",
      "    \u001b[36m\u001b[1mFetching:\u001b[22m\u001b[39m [================================>        ]  78.3 %\r",
      "    \u001b[36m\u001b[1mFetching:\u001b[22m\u001b[39m [================================>        ]  78.4 %\r",
      "    \u001b[36m\u001b[1mFetching:\u001b[22m\u001b[39m [================================>        ]  78.6 %\r",
      "    \u001b[36m\u001b[1mFetching:\u001b[22m\u001b[39m [================================>        ]  78.7 %\r",
      "    \u001b[36m\u001b[1mFetching:\u001b[22m\u001b[39m [================================>        ]  78.8 %\r",
      "    \u001b[36m\u001b[1mFetching:\u001b[22m\u001b[39m [================================>        ]  78.9 %\r",
      "    \u001b[36m\u001b[1mFetching:\u001b[22m\u001b[39m [================================>        ]  79.0 %\r",
      "    \u001b[36m\u001b[1mFetching:\u001b[22m\u001b[39m [================================>        ]  79.1 %\r",
      "    \u001b[36m\u001b[1mFetching:\u001b[22m\u001b[39m [================================>        ]  79.2 %\r",
      "    \u001b[36m\u001b[1mFetching:\u001b[22m\u001b[39m [================================>        ]  79.3 %\r",
      "    \u001b[36m\u001b[1mFetching:\u001b[22m\u001b[39m [================================>        ]  79.4 %\r",
      "    \u001b[36m\u001b[1mFetching:\u001b[22m\u001b[39m [================================>        ]  79.5 %\r",
      "    \u001b[36m\u001b[1mFetching:\u001b[22m\u001b[39m [================================>        ]  79.6 %\r",
      "    \u001b[36m\u001b[1mFetching:\u001b[22m\u001b[39m [================================>        ]  79.7 %\r",
      "    \u001b[36m\u001b[1mFetching:\u001b[22m\u001b[39m [================================>        ]  "
     ]
    }
   ],
   "source": [
    "Pkg.activate(\"/home/wkh/XLA.jl\")\n",
    "Pkg.instantiate();"
   ]
  },
  {
   "cell_type": "code",
   "execution_count": 3,
   "metadata": {},
   "outputs": [
    {
     "name": "stderr",
     "output_type": "stream",
     "text": [
      "┌ Info: Precompiling Distributions [31c24e10-a181-5473-b8eb-7969acd0382f]\n",
      "└ @ Base loading.jl:1186\n",
      "┌ Warning: Package Distributions does not have Test in its dependencies:\n",
      "│ - If you have Distributions checked out for development and have\n",
      "│   added Test as a dependency but haven't updated your primary\n",
      "│   environment's manifest file, try `Pkg.resolve()`.\n",
      "│ - Otherwise you may need to report an issue with Distributions\n",
      "└ Loading Test into Distributions from project dependency, future warnings for Distributions are suppressed.\n"
     ]
    }
   ],
   "source": [
    "using Distributions"
   ]
  },
  {
   "cell_type": "code",
   "execution_count": 4,
   "metadata": {},
   "outputs": [
    {
     "name": "stdout",
     "output_type": "stream",
     "text": [
      "\u001b[32m\u001b[1m Resolving\u001b[22m\u001b[39m package versions...\n",
      "\u001b[32m\u001b[1m  Updating\u001b[22m\u001b[39m `~/XLA.jl/Project.toml`\n",
      "\u001b[90m [no changes]\u001b[39m\n",
      "\u001b[32m\u001b[1m  Updating\u001b[22m\u001b[39m `~/XLA.jl/Manifest.toml`\n",
      "\u001b[90m [no changes]\u001b[39m\n"
     ]
    }
   ],
   "source": [
    "Pkg.resolve()\n",
    "using Distributions"
   ]
  },
  {
   "cell_type": "code",
   "execution_count": 5,
   "metadata": {},
   "outputs": [
    {
     "name": "stderr",
     "output_type": "stream",
     "text": [
      "┌ Info: Precompiling XLA [1ae4bca4-de81-11e8-0eca-6d3e4e7c4181]\n",
      "└ @ Base loading.jl:1186\n",
      "┌ Warning: Loading a new version of TensorFlow.jl for the first time. This initial load can take around 5 minutes as code is precompiled; subsequent usage will only take a few seconds.\n",
      "└ @ TensorFlow ~/.julia/packages/TensorFlow/eu9qM/src/TensorFlow.jl:3\n",
      "┌ Warning: Module Compat with build ID 86551295049399 is missing from the cache.\n",
      "│ This may mean Compat [34da2185-b29b-5c13-b0c7-acf172513d20] does not support precompilation but is imported by a module that does.\n",
      "└ @ Base loading.jl:947\n",
      "┌ Warning: Module Compat with build ID 86551295049399 is missing from the cache.\n",
      "│ This may mean Compat [34da2185-b29b-5c13-b0c7-acf172513d20] does not support precompilation but is imported by a module that does.\n",
      "└ @ Base loading.jl:947\n",
      "┌ Warning: Loading a new version of TensorFlow.jl for the first time. This initial load can take around 5 minutes as code is precompiled; subsequent usage will only take a few seconds.\n",
      "└ @ TensorFlow ~/.julia/packages/TensorFlow/eu9qM/src/TensorFlow.jl:3\n",
      "┌ Warning: Module Compat with build ID 86551295049399 is missing from the cache.\n",
      "│ This may mean Compat [34da2185-b29b-5c13-b0c7-acf172513d20] does not support precompilation but is imported by a module that does.\n",
      "└ @ Base loading.jl:947\n",
      "┌ Warning: Module Compat with build ID 86551295049399 is missing from the cache.\n",
      "│ This may mean Compat [34da2185-b29b-5c13-b0c7-acf172513d20] does not support precompilation but is imported by a module that does.\n",
      "└ @ Base loading.jl:947\n",
      "┌ Info: Precompiling TensorFlow [1d978283-2c37-5f34-9a8e-e9c0ece82495]\n",
      "└ @ Base loading.jl:1186\n",
      "┌ Warning: Loading a new version of TensorFlow.jl for the first time. This initial load can take around 5 minutes as code is precompiled; subsequent usage will only take a few seconds.\n",
      "└ @ TensorFlow ~/.julia/packages/TensorFlow/eu9qM/src/TensorFlow.jl:3\n",
      "┌ Warning: Module Compat with build ID 86551295049399 is missing from the cache.\n",
      "│ This may mean Compat [34da2185-b29b-5c13-b0c7-acf172513d20] does not support precompilation but is imported by a module that does.\n",
      "└ @ Base loading.jl:947\n",
      "┌ Warning: Module Compat with build ID 86551295049399 is missing from the cache.\n",
      "│ This may mean Compat [34da2185-b29b-5c13-b0c7-acf172513d20] does not support precompilation but is imported by a module that does.\n",
      "└ @ Base loading.jl:947\n",
      "┌ Warning: Loading a new version of TensorFlow.jl for the first time. This initial load can take around 5 minutes as code is precompiled; subsequent usage will only take a few seconds.\n",
      "└ @ TensorFlow /home/wkh/.julia/packages/TensorFlow/eu9qM/src/TensorFlow.jl:3\n",
      "┌ Info: Precompiling MacroTools [1914dd2f-81c6-5fcd-8719-6d5c9610ff09]\n",
      "└ @ Base loading.jl:1186\n",
      "┌ Warning: Module Compat with build ID 86551295049399 is missing from the cache.\n",
      "│ This may mean Compat [34da2185-b29b-5c13-b0c7-acf172513d20] does not support precompilation but is imported by a module that does.\n",
      "└ @ Base loading.jl:947\n",
      "┌ Info: Recompiling stale cache file /home/wkh/.julia/compiled/v1.1/PyCall/GkzkC.ji for PyCall [438e738f-606a-5dbb-bf0a-cddfbfd45ab0]\n",
      "└ @ Base loading.jl:1184\n",
      "┌ Warning: Module VersionParsing with build ID 86549505366269 is missing from the cache.\n",
      "│ This may mean VersionParsing [81def892-9a0e-5fdd-b105-ffc91e053289] does not support precompilation but is imported by a module that does.\n",
      "└ @ Base loading.jl:947\n",
      "┌ Info: Precompiling AutoHashEquals [15f4f7f2-30c1-5605-9d31-71845cf9641f]\n",
      "└ @ Base loading.jl:1186\n",
      "┌ Info: Precompiling JLD2 [033835bb-8acc-5ee8-8aae-3f567f8a3819]\n",
      "└ @ Base loading.jl:1186\n",
      "┌ Info: Precompiling Juno [e5e0dc1b-0480-54bc-9374-aad01c23163d]\n",
      "└ @ Base loading.jl:1186\n",
      "┌ Warning: Module MacroTools with build ID 87134600291088 is missing from the cache.\n",
      "│ This may mean MacroTools [1914dd2f-81c6-5fcd-8719-6d5c9610ff09] does not support precompilation but is imported by a module that does.\n",
      "└ @ Base loading.jl:947\n",
      "┌ Warning: Module MacroTools with build ID 87134600291088 is missing from the cache.\n",
      "│ This may mean MacroTools [1914dd2f-81c6-5fcd-8719-6d5c9610ff09] does not support precompilation but is imported by a module that does.\n",
      "└ @ Base loading.jl:947\n",
      "┌ Info: Precompiling Media [e89f7d12-3494-54d1-8411-f7d8b9ae1f27]\n",
      "└ @ Base loading.jl:1186\n",
      "┌ Warning: Module MacroTools with build ID 87134600291088 is missing from the cache.\n",
      "│ This may mean MacroTools [1914dd2f-81c6-5fcd-8719-6d5c9610ff09] does not support precompilation but is imported by a module that does.\n",
      "└ @ Base loading.jl:947\n",
      "┌ Info: Precompiling BFloat16s [ab4f0b2a-ad5b-11e8-123f-65d77653426b]\n",
      "└ @ Base loading.jl:1186\n",
      "WARNING: could not import xla.Shape into XLA\n",
      "┌ Info: Precompiling NNlib [872c559c-99b0-510c-b3b7-b6c96a88d5cd]\n",
      "└ @ Base loading.jl:1186\n",
      "┌ Info: Precompiling Flux [587475ba-b771-5e3f-ad9e-33799f191a9c]\n",
      "└ @ Base loading.jl:1186\n",
      "┌ Warning: Module MacroTools with build ID 87134600291088 is missing from the cache.\n",
      "│ This may mean MacroTools [1914dd2f-81c6-5fcd-8719-6d5c9610ff09] does not support precompilation but is imported by a module that does.\n",
      "└ @ Base loading.jl:947\n",
      "┌ Info: Precompiling Reexport [189a3867-3050-52da-a836-e630ba90ab69]\n",
      "└ @ Base loading.jl:1186\n",
      "┌ Info: Precompiling DiffRules [b552c78f-8df3-52c6-915a-8e097449b14b]\n",
      "└ @ Base loading.jl:1186\n",
      "┌ Info: Precompiling NaNMath [77ba4419-2d1f-58cd-9bb1-8ffee604a2e3]\n",
      "└ @ Base loading.jl:1186\n",
      "┌ Warning: Module Compat with build ID 86551295049399 is missing from the cache.\n",
      "│ This may mean Compat [34da2185-b29b-5c13-b0c7-acf172513d20] does not support precompilation but is imported by a module that does.\n",
      "└ @ Base loading.jl:947\n",
      "┌ Info: Precompiling ForwardDiff [f6369f11-7733-5829-9624-2563aa707210]\n",
      "└ @ Base loading.jl:1186\n",
      "┌ Warning: Module Compat with build ID 86551295049399 is missing from the cache.\n",
      "│ This may mean Compat [34da2185-b29b-5c13-b0c7-acf172513d20] does not support precompilation but is imported by a module that does.\n",
      "└ @ Base loading.jl:947\n",
      "┌ Warning: Module Compat with build ID 86551295049399 is missing from the cache.\n",
      "│ This may mean Compat [34da2185-b29b-5c13-b0c7-acf172513d20] does not support precompilation but is imported by a module that does.\n",
      "└ @ Base loading.jl:947\n",
      "┌ Info: Precompiling DiffResults [163ba53b-c6d8-5494-b064-1a9d43ac40c5]\n",
      "└ @ Base loading.jl:1186\n",
      "┌ Warning: Module Compat with build ID 86551295049399 is missing from the cache.\n",
      "│ This may mean Compat [34da2185-b29b-5c13-b0c7-acf172513d20] does not support precompilation but is imported by a module that does.\n",
      "└ @ Base loading.jl:947\n",
      "┌ Info: Precompiling CommonSubexpressions [bbf7d656-a473-5ed7-a52c-81e309532950]\n",
      "└ @ Base loading.jl:1186\n",
      "WARNING: could not import NNlib.cudata into Tracker\n",
      "┌ Info: Precompiling Adapt [79e6a3ab-5dfb-504d-930d-738a2a938a0e]\n",
      "└ @ Base loading.jl:1186\n",
      "┌ Info: Precompiling Colors [5ae59095-9a9b-59fe-a467-6f913c188581]\n",
      "└ @ Base loading.jl:1186\n",
      "┌ Info: Precompiling AbstractTrees [1520ce14-60c1-5f80-bbc7-55ef81b5835c]\n",
      "└ @ Base loading.jl:1186\n",
      "┌ Info: Precompiling ZipFile [a5390f91-8eb1-5f08-bee0-b1d1ffed6cea]\n",
      "└ @ Base loading.jl:1186\n",
      "┌ Info: Precompiling Zygote [e88e6eb3-aa80-5325-afca-941959d7151f]\n",
      "└ @ Base loading.jl:1186\n",
      "┌ Warning: Module MacroTools with build ID 87134600291088 is missing from the cache.\n",
      "│ This may mean MacroTools [1914dd2f-81c6-5fcd-8719-6d5c9610ff09] does not support precompilation but is imported by a module that does.\n",
      "└ @ Base loading.jl:947\n",
      "┌ Warning: Module MacroTools with build ID 87134600291088 is missing from the cache.\n",
      "│ This may mean MacroTools [1914dd2f-81c6-5fcd-8719-6d5c9610ff09] does not support precompilation but is imported by a module that does.\n",
      "└ @ Base loading.jl:947\n",
      "┌ Info: Precompiling IRTools [7869d1d1-7146-5819-86e3-90919afe41df]\n",
      "└ @ Base loading.jl:1186\n",
      "┌ Warning: Module MacroTools with build ID 87134600291088 is missing from the cache.\n",
      "│ This may mean MacroTools [1914dd2f-81c6-5fcd-8719-6d5c9610ff09] does not support precompilation but is imported by a module that does.\n",
      "└ @ Base loading.jl:947\n"
     ]
    }
   ],
   "source": [
    "using XLA\n",
    "using TensorFlow"
   ]
  },
  {
   "cell_type": "code",
   "execution_count": 28,
   "metadata": {},
   "outputs": [
    {
     "name": "stderr",
     "output_type": "stream",
     "text": [
      "2019-11-14 18:42:32.933827: W tensorflow/core/distributed_runtime/rpc/grpc_session.cc:349] GrpcSession::ListDevices will initialize the session with an empty graph and other defaults because the session has not yet been created.\n"
     ]
    }
   ],
   "source": [
    "sess = Session(Graph(); target=\"grpc://10.240.1.2:8470\")\n",
    "run(sess, TensorFlow.Ops.configure_distributed_tpu())\n",
    "XLA.initialize!(\"10.240.1.2:8470\"; reset=true);"
   ]
  },
  {
   "cell_type": "code",
   "execution_count": null,
   "metadata": {},
   "outputs": [],
   "source": [
    "f(x) = x*x\n",
    "data = XRTArray(rand(Float32,5,5))\n",
    "f_compiled = @tpu_compile f(data)\n",
    "run(f_compiled, data)"
   ]
  },
  {
   "cell_type": "code",
   "execution_count": 7,
   "metadata": {},
   "outputs": [
    {
     "data": {
      "text/plain": [
       "19.17349137505416"
      ]
     },
     "execution_count": 7,
     "metadata": {},
     "output_type": "execute_result"
    }
   ],
   "source": [
    "f(x) = sum(x*x)\n",
    "data = XRTArray(rand(Float32,10^4,10^4))\n",
    "f_compiled = @tpu_compile f(data)\n",
    "run(f_compiled, data)\n",
    "teraflops = 2*1e4^3 / (@elapsed run(f_compiled, data)) / 1e12"
   ]
  },
  {
   "cell_type": "code",
   "execution_count": 8,
   "metadata": {},
   "outputs": [],
   "source": [
    "using Flux, Printf"
   ]
  },
  {
   "cell_type": "code",
   "execution_count": 9,
   "metadata": {},
   "outputs": [],
   "source": [
    "include(\"/home/wkh/XLA.jl/examples/resnet50.jl\")\n",
    "model = resnet50();"
   ]
  },
  {
   "cell_type": "code",
   "execution_count": 10,
   "metadata": {},
   "outputs": [
    {
     "data": {
      "text/plain": [
       "Chain(Conv((7, 7), 3=>64), getfield(Main, Symbol(\"##9#12\"))(), ResidualBlock{Tuple{ConvNorm{Conv{typeof(identity),TrackedArray{…,Array{Float64,4}},TrackedArray{…,Array{Float64,1}},(1, 1),(0, 0),(1, 1)},BatchNorm{typeof(identity),TrackedArray{…,Array{Float64,1}},Array{Float64,1},Float64}},ConvNorm{Conv{typeof(identity),TrackedArray{…,Array{Float64,4}},TrackedArray{…,Array{Float64,1}},(1, 1),(1, 1),(1, 1)},BatchNorm{typeof(identity),TrackedArray{…,Array{Float64,1}},Array{Float64,1},Float64}},ConvNorm{Conv{typeof(identity),TrackedArray{…,Array{Float64,4}},TrackedArray{…,Array{Float64,1}},(1, 1),(0, 0),(1, 1)},BatchNorm{typeof(identity),TrackedArray{…,Array{Float64,1}},Array{Float64,1},Float64}}},Chain}((ConvNorm{Conv{typeof(identity),TrackedArray{…,Array{Float64,4}},TrackedArray{…,Array{Float64,1}},(1, 1),(0, 0),(1, 1)},BatchNorm{typeof(identity),TrackedArray{…,Array{Float64,1}},Array{Float64,1},Float64}}(Conv((1, 1), 64=>64), BatchNorm(64)), ConvNorm{Conv{typeof(identity),TrackedArray{…,Array{Float64,4}},TrackedArray{…,Array{Float64,1}},(1, 1),(1, 1),(1, 1)},BatchNorm{typeof(identity),TrackedArray{…,Array{Float64,1}},Array{Float64,1},Float64}}(Conv((3, 3), 64=>64), BatchNorm(64)), ConvNorm{Conv{typeof(identity),TrackedArray{…,Array{Float64,4}},TrackedArray{…,Array{Float64,1}},(1, 1),(0, 0),(1, 1)},BatchNorm{typeof(identity),TrackedArray{…,Array{Float64,1}},Array{Float64,1},Float64}}(Conv((1, 1), 64=>256), BatchNorm(256))), Chain(Conv((1, 1), 64=>256), BatchNorm(256))), ResidualBlock{Tuple{ConvNorm{Conv{typeof(identity),TrackedArray{…,Array{Float64,4}},TrackedArray{…,Array{Float64,1}},(1, 1),(0, 0),(1, 1)},BatchNorm{typeof(identity),TrackedArray{…,Array{Float64,1}},Array{Float64,1},Float64}},ConvNorm{Conv{typeof(identity),TrackedArray{…,Array{Float64,4}},TrackedArray{…,Array{Float64,1}},(1, 1),(1, 1),(1, 1)},BatchNorm{typeof(identity),TrackedArray{…,Array{Float64,1}},Array{Float64,1},Float64}},ConvNorm{Conv{typeof(identity),TrackedArray{…,Array{Float64,4}},TrackedArray{…,Array{Float64,1}},(1, 1),(0, 0),(1, 1)},BatchNorm{typeof(identity),TrackedArray{…,Array{Float64,1}},Array{Float64,1},Float64}}},typeof(identity)}((ConvNorm{Conv{typeof(identity),TrackedArray{…,Array{Float64,4}},TrackedArray{…,Array{Float64,1}},(1, 1),(0, 0),(1, 1)},BatchNorm{typeof(identity),TrackedArray{…,Array{Float64,1}},Array{Float64,1},Float64}}(Conv((1, 1), 256=>64), BatchNorm(64)), ConvNorm{Conv{typeof(identity),TrackedArray{…,Array{Float64,4}},TrackedArray{…,Array{Float64,1}},(1, 1),(1, 1),(1, 1)},BatchNorm{typeof(identity),TrackedArray{…,Array{Float64,1}},Array{Float64,1},Float64}}(Conv((3, 3), 64=>64), BatchNorm(64)), ConvNorm{Conv{typeof(identity),TrackedArray{…,Array{Float64,4}},TrackedArray{…,Array{Float64,1}},(1, 1),(0, 0),(1, 1)},BatchNorm{typeof(identity),TrackedArray{…,Array{Float64,1}},Array{Float64,1},Float64}}(Conv((1, 1), 64=>256), BatchNorm(256))), identity), ResidualBlock{Tuple{ConvNorm{Conv{typeof(identity),TrackedArray{…,Array{Float64,4}},TrackedArray{…,Array{Float64,1}},(1, 1),(0, 0),(1, 1)},BatchNorm{typeof(identity),TrackedArray{…,Array{Float64,1}},Array{Float64,1},Float64}},ConvNorm{Conv{typeof(identity),TrackedArray{…,Array{Float64,4}},TrackedArray{…,Array{Float64,1}},(1, 1),(1, 1),(1, 1)},BatchNorm{typeof(identity),TrackedArray{…,Array{Float64,1}},Array{Float64,1},Float64}},ConvNorm{Conv{typeof(identity),TrackedArray{…,Array{Float64,4}},TrackedArray{…,Array{Float64,1}},(1, 1),(0, 0),(1, 1)},BatchNorm{typeof(identity),TrackedArray{…,Array{Float64,1}},Array{Float64,1},Float64}}},typeof(identity)}((ConvNorm{Conv{typeof(identity),TrackedArray{…,Array{Float64,4}},TrackedArray{…,Array{Float64,1}},(1, 1),(0, 0),(1, 1)},BatchNorm{typeof(identity),TrackedArray{…,Array{Float64,1}},Array{Float64,1},Float64}}(Conv((1, 1), 256=>64), BatchNorm(64)), ConvNorm{Conv{typeof(identity),TrackedArray{…,Array{Float64,4}},TrackedArray{…,Array{Float64,1}},(1, 1),(1, 1),(1, 1)},BatchNorm{typeof(identity),TrackedArray{…,Array{Float64,1}},Array{Float64,1},Float64}}(Conv((3, 3), 64=>64), BatchNorm(64)), ConvNorm{Conv{typeof(identity),TrackedArray{…,Array{Float64,4}},TrackedArray{…,Array{Float64,1}},(1, 1),(0, 0),(1, 1)},BatchNorm{typeof(identity),TrackedArray{…,Array{Float64,1}},Array{Float64,1},Float64}}(Conv((1, 1), 64=>256), BatchNorm(256))), identity), ResidualBlock{Tuple{ConvNorm{Conv{typeof(identity),TrackedArray{…,Array{Float64,4}},TrackedArray{…,Array{Float64,1}},(1, 1),(0, 0),(1, 1)},BatchNorm{typeof(identity),TrackedArray{…,Array{Float64,1}},Array{Float64,1},Float64}},ConvNorm{Conv{typeof(identity),TrackedArray{…,Array{Float64,4}},TrackedArray{…,Array{Float64,1}},(1, 1),(1, 1),(1, 1)},BatchNorm{typeof(identity),TrackedArray{…,Array{Float64,1}},Array{Float64,1},Float64}},ConvNorm{Conv{typeof(identity),TrackedArray{…,Array{Float64,4}},TrackedArray{…,Array{Float64,1}},(2, 2),(0, 0),(1, 1)},BatchNorm{typeof(identity),TrackedArray{…,Array{Float64,1}},Array{Float64,1},Float64}}},Chain}((ConvNorm{Conv{typeof(identity),TrackedArray{…,Array{Float64,4}},TrackedArray{…,Array{Float64,1}},(1, 1),(0, 0),(1, 1)},BatchNorm{typeof(identity),TrackedArray{…,Array{Float64,1}},Array{Float64,1},Float64}}(Conv((1, 1), 256=>128), BatchNorm(128)), ConvNorm{Conv{typeof(identity),TrackedArray{…,Array{Float64,4}},TrackedArray{…,Array{Float64,1}},(1, 1),(1, 1),(1, 1)},BatchNorm{typeof(identity),TrackedArray{…,Array{Float64,1}},Array{Float64,1},Float64}}(Conv((3, 3), 128=>128), BatchNorm(128)), ConvNorm{Conv{typeof(identity),TrackedArray{…,Array{Float64,4}},TrackedArray{…,Array{Float64,1}},(2, 2),(0, 0),(1, 1)},BatchNorm{typeof(identity),TrackedArray{…,Array{Float64,1}},Array{Float64,1},Float64}}(Conv((1, 1), 128=>512), BatchNorm(512))), Chain(Conv((1, 1), 256=>512), BatchNorm(512))), ResidualBlock{Tuple{ConvNorm{Conv{typeof(identity),TrackedArray{…,Array{Float64,4}},TrackedArray{…,Array{Float64,1}},(1, 1),(0, 0),(1, 1)},BatchNorm{typeof(identity),TrackedArray{…,Array{Float64,1}},Array{Float64,1},Float64}},ConvNorm{Conv{typeof(identity),TrackedArray{…,Array{Float64,4}},TrackedArray{…,Array{Float64,1}},(1, 1),(1, 1),(1, 1)},BatchNorm{typeof(identity),TrackedArray{…,Array{Float64,1}},Array{Float64,1},Float64}},ConvNorm{Conv{typeof(identity),TrackedArray{…,Array{Float64,4}},TrackedArray{…,Array{Float64,1}},(1, 1),(0, 0),(1, 1)},BatchNorm{typeof(identity),TrackedArray{…,Array{Float64,1}},Array{Float64,1},Float64}}},typeof(identity)}((ConvNorm{Conv{typeof(identity),TrackedArray{…,Array{Float64,4}},TrackedArray{…,Array{Float64,1}},(1, 1),(0, 0),(1, 1)},BatchNorm{typeof(identity),TrackedArray{…,Array{Float64,1}},Array{Float64,1},Float64}}(Conv((1, 1), 512=>128), BatchNorm(128)), ConvNorm{Conv{typeof(identity),TrackedArray{…,Array{Float64,4}},TrackedArray{…,Array{Float64,1}},(1, 1),(1, 1),(1, 1)},BatchNorm{typeof(identity),TrackedArray{…,Array{Float64,1}},Array{Float64,1},Float64}}(Conv((3, 3), 128=>128), BatchNorm(128)), ConvNorm{Conv{typeof(identity),TrackedArray{…,Array{Float64,4}},TrackedArray{…,Array{Float64,1}},(1, 1),(0, 0),(1, 1)},BatchNorm{typeof(identity),TrackedArray{…,Array{Float64,1}},Array{Float64,1},Float64}}(Conv((1, 1), 128=>512), BatchNorm(512))), identity), ResidualBlock{Tuple{ConvNorm{Conv{typeof(identity),TrackedArray{…,Array{Float64,4}},TrackedArray{…,Array{Float64,1}},(1, 1),(0, 0),(1, 1)},BatchNorm{typeof(identity),TrackedArray{…,Array{Float64,1}},Array{Float64,1},Float64}},ConvNorm{Conv{typeof(identity),TrackedArray{…,Array{Float64,4}},TrackedArray{…,Array{Float64,1}},(1, 1),(1, 1),(1, 1)},BatchNorm{typeof(identity),TrackedArray{…,Array{Float64,1}},Array{Float64,1},Float64}},ConvNorm{Conv{typeof(identity),TrackedArray{…,Array{Float64,4}},TrackedArray{…,Array{Float64,1}},(1, 1),(0, 0),(1, 1)},BatchNorm{typeof(identity),TrackedArray{…,Array{Float64,1}},Array{Float64,1},Float64}}},typeof(identity)}((ConvNorm{Conv{typeof(identity),TrackedArray{…,Array{Float64,4}},TrackedArray{…,Array{Float64,1}},(1, 1),(0, 0),(1, 1)},BatchNorm{typeof(identity),TrackedArray{…,Array{Float64,1}},Array{Float64,1},Float64}}(Conv((1, 1), 512=>128), BatchNorm(128)), ConvNorm{Conv{typeof(identity),TrackedArray{…,Array{Float64,4}},TrackedArray{…,Array{Float64,1}},(1, 1),(1, 1),(1, 1)},BatchNorm{typeof(identity),TrackedArray{…,Array{Float64,1}},Array{Float64,1},Float64}}(Conv((3, 3), 128=>128), BatchNorm(128)), ConvNorm{Conv{typeof(identity),TrackedArray{…,Array{Float64,4}},TrackedArray{…,Array{Float64,1}},(1, 1),(0, 0),(1, 1)},BatchNorm{typeof(identity),TrackedArray{…,Array{Float64,1}},Array{Float64,1},Float64}}(Conv((1, 1), 128=>512), BatchNorm(512))), identity), ResidualBlock{Tuple{ConvNorm{Conv{typeof(identity),TrackedArray{…,Array{Float64,4}},TrackedArray{…,Array{Float64,1}},(1, 1),(0, 0),(1, 1)},BatchNorm{typeof(identity),TrackedArray{…,Array{Float64,1}},Array{Float64,1},Float64}},ConvNorm{Conv{typeof(identity),TrackedArray{…,Array{Float64,4}},TrackedArray{…,Array{Float64,1}},(1, 1),(1, 1),(1, 1)},BatchNorm{typeof(identity),TrackedArray{…,Array{Float64,1}},Array{Float64,1},Float64}},ConvNorm{Conv{typeof(identity),TrackedArray{…,Array{Float64,4}},TrackedArray{…,Array{Float64,1}},(1, 1),(0, 0),(1, 1)},BatchNorm{typeof(identity),TrackedArray{…,Array{Float64,1}},Array{Float64,1},Float64}}},typeof(identity)}((ConvNorm{Conv{typeof(identity),TrackedArray{…,Array{Float64,4}},TrackedArray{…,Array{Float64,1}},(1, 1),(0, 0),(1, 1)},BatchNorm{typeof(identity),TrackedArray{…,Array{Float64,1}},Array{Float64,1},Float64}}(Conv((1, 1), 512=>128), BatchNorm(128)), ConvNorm{Conv{typeof(identity),TrackedArray{…,Array{Float64,4}},TrackedArray{…,Array{Float64,1}},(1, 1),(1, 1),(1, 1)},BatchNorm{typeof(identity),TrackedArray{…,Array{Float64,1}},Array{Float64,1},Float64}}(Conv((3, 3), 128=>128), BatchNorm(128)), ConvNorm{Conv{typeof(identity),TrackedArray{…,Array{Float64,4}},TrackedArray{…,Array{Float64,1}},(1, 1),(0, 0),(1, 1)},BatchNorm{typeof(identity),TrackedArray{…,Array{Float64,1}},Array{Float64,1},Float64}}(Conv((1, 1), 128=>512), BatchNorm(512))), identity), ResidualBlock{Tuple{ConvNorm{Conv{typeof(identity),TrackedArray{…,Array{Float64,4}},TrackedArray{…,Array{Float64,1}},(1, 1),(0, 0),(1, 1)},BatchNorm{typeof(identity),TrackedArray{…,Array{Float64,1}},Array{Float64,1},Float64}},ConvNorm{Conv{typeof(identity),TrackedArray{…,Array{Float64,4}},TrackedArray{…,Array{Float64,1}},(1, 1),(1, 1),(1, 1)},BatchNorm{typeof(identity),TrackedArray{…,Array{Float64,1}},Array{Float64,1},Float64}},ConvNorm{Conv{typeof(identity),TrackedArray{…,Array{Float64,4}},TrackedArray{…,Array{Float64,1}},(2, 2),(0, 0),(1, 1)},BatchNorm{typeof(identity),TrackedArray{…,Array{Float64,1}},Array{Float64,1},Float64}}},Chain}((ConvNorm{Conv{typeof(identity),TrackedArray{…,Array{Float64,4}},TrackedArray{…,Array{Float64,1}},(1, 1),(0, 0),(1, 1)},BatchNorm{typeof(identity),TrackedArray{…,Array{Float64,1}},Array{Float64,1},Float64}}(Conv((1, 1), 512=>256), BatchNorm(256)), ConvNorm{Conv{typeof(identity),TrackedArray{…,Array{Float64,4}},TrackedArray{…,Array{Float64,1}},(1, 1),(1, 1),(1, 1)},BatchNorm{typeof(identity),TrackedArray{…,Array{Float64,1}},Array{Float64,1},Float64}}(Conv((3, 3), 256=>256), BatchNorm(256)), ConvNorm{Conv{typeof(identity),TrackedArray{…,Array{Float64,4}},TrackedArray{…,Array{Float64,1}},(2, 2),(0, 0),(1, 1)},BatchNorm{typeof(identity),TrackedArray{…,Array{Float64,1}},Array{Float64,1},Float64}}(Conv((1, 1), 256=>1024), BatchNorm(1024))), Chain(Conv((1, 1), 512=>1024), BatchNorm(1024))), ResidualBlock{Tuple{ConvNorm{Conv{typeof(identity),TrackedArray{…,Array{Float64,4}},TrackedArray{…,Array{Float64,1}},(1, 1),(0, 0),(1, 1)},BatchNorm{typeof(identity),TrackedArray{…,Array{Float64,1}},Array{Float64,1},Float64}},ConvNorm{Conv{typeof(identity),TrackedArray{…,Array{Float64,4}},TrackedArray{…,Array{Float64,1}},(1, 1),(1, 1),(1, 1)},BatchNorm{typeof(identity),TrackedArray{…,Array{Float64,1}},Array{Float64,1},Float64}},ConvNorm{Conv{typeof(identity),TrackedArray{…,Array{Float64,4}},TrackedArray{…,Array{Float64,1}},(1, 1),(0, 0),(1, 1)},BatchNorm{typeof(identity),TrackedArray{…,Array{Float64,1}},Array{Float64,1},Float64}}},typeof(identity)}((ConvNorm{Conv{typeof(identity),TrackedArray{…,Array{Float64,4}},TrackedArray{…,Array{Float64,1}},(1, 1),(0, 0),(1, 1)},BatchNorm{typeof(identity),TrackedArray{…,Array{Float64,1}},Array{Float64,1},Float64}}(Conv((1, 1), 1024=>256), BatchNorm(256)), ConvNorm{Conv{typeof(identity),TrackedArray{…,Array{Float64,4}},TrackedArray{…,Array{Float64,1}},(1, 1),(1, 1),(1, 1)},BatchNorm{typeof(identity),TrackedArray{…,Array{Float64,1}},Array{Float64,1},Float64}}(Conv((3, 3), 256=>256), BatchNorm(256)), ConvNorm{Conv{typeof(identity),TrackedArray{…,Array{Float64,4}},TrackedArray{…,Array{Float64,1}},(1, 1),(0, 0),(1, 1)},BatchNorm{typeof(identity),TrackedArray{…,Array{Float64,1}},Array{Float64,1},Float64}}(Conv((1, 1), 256=>1024), BatchNorm(1024))), identity), ResidualBlock{Tuple{ConvNorm{Conv{typeof(identity),TrackedArray{…,Array{Float64,4}},TrackedArray{…,Array{Float64,1}},(1, 1),(0, 0),(1, 1)},BatchNorm{typeof(identity),TrackedArray{…,Array{Float64,1}},Array{Float64,1},Float64}},ConvNorm{Conv{typeof(identity),TrackedArray{…,Array{Float64,4}},TrackedArray{…,Array{Float64,1}},(1, 1),(1, 1),(1, 1)},BatchNorm{typeof(identity),TrackedArray{…,Array{Float64,1}},Array{Float64,1},Float64}},ConvNorm{Conv{typeof(identity),TrackedArray{…,Array{Float64,4}},TrackedArray{…,Array{Float64,1}},(1, 1),(0, 0),(1, 1)},BatchNorm{typeof(identity),TrackedArray{…,Array{Float64,1}},Array{Float64,1},Float64}}},typeof(identity)}((ConvNorm{Conv{typeof(identity),TrackedArray{…,Array{Float64,4}},TrackedArray{…,Array{Float64,1}},(1, 1),(0, 0),(1, 1)},BatchNorm{typeof(identity),TrackedArray{…,Array{Float64,1}},Array{Float64,1},Float64}}(Conv((1, 1), 1024=>256), BatchNorm(256)), ConvNorm{Conv{typeof(identity),TrackedArray{…,Array{Float64,4}},TrackedArray{…,Array{Float64,1}},(1, 1),(1, 1),(1, 1)},BatchNorm{typeof(identity),TrackedArray{…,Array{Float64,1}},Array{Float64,1},Float64}}(Conv((3, 3), 256=>256), BatchNorm(256)), ConvNorm{Conv{typeof(identity),TrackedArray{…,Array{Float64,4}},TrackedArray{…,Array{Float64,1}},(1, 1),(0, 0),(1, 1)},BatchNorm{typeof(identity),TrackedArray{…,Array{Float64,1}},Array{Float64,1},Float64}}(Conv((1, 1), 256=>1024), BatchNorm(1024))), identity), ResidualBlock{Tuple{ConvNorm{Conv{typeof(identity),TrackedArray{…,Array{Float64,4}},TrackedArray{…,Array{Float64,1}},(1, 1),(0, 0),(1, 1)},BatchNorm{typeof(identity),TrackedArray{…,Array{Float64,1}},Array{Float64,1},Float64}},ConvNorm{Conv{typeof(identity),TrackedArray{…,Array{Float64,4}},TrackedArray{…,Array{Float64,1}},(1, 1),(1, 1),(1, 1)},BatchNorm{typeof(identity),TrackedArray{…,Array{Float64,1}},Array{Float64,1},Float64}},ConvNorm{Conv{typeof(identity),TrackedArray{…,Array{Float64,4}},TrackedArray{…,Array{Float64,1}},(1, 1),(0, 0),(1, 1)},BatchNorm{typeof(identity),TrackedArray{…,Array{Float64,1}},Array{Float64,1},Float64}}},typeof(identity)}((ConvNorm{Conv{typeof(identity),TrackedArray{…,Array{Float64,4}},TrackedArray{…,Array{Float64,1}},(1, 1),(0, 0),(1, 1)},BatchNorm{typeof(identity),TrackedArray{…,Array{Float64,1}},Array{Float64,1},Float64}}(Conv((1, 1), 1024=>256), BatchNorm(256)), ConvNorm{Conv{typeof(identity),TrackedArray{…,Array{Float64,4}},TrackedArray{…,Array{Float64,1}},(1, 1),(1, 1),(1, 1)},BatchNorm{typeof(identity),TrackedArray{…,Array{Float64,1}},Array{Float64,1},Float64}}(Conv((3, 3), 256=>256), BatchNorm(256)), ConvNorm{Conv{typeof(identity),TrackedArray{…,Array{Float64,4}},TrackedArray{…,Array{Float64,1}},(1, 1),(0, 0),(1, 1)},BatchNorm{typeof(identity),TrackedArray{…,Array{Float64,1}},Array{Float64,1},Float64}}(Conv((1, 1), 256=>1024), BatchNorm(1024))), identity), ResidualBlock{Tuple{ConvNorm{Conv{typeof(identity),TrackedArray{…,Array{Float64,4}},TrackedArray{…,Array{Float64,1}},(1, 1),(0, 0),(1, 1)},BatchNorm{typeof(identity),TrackedArray{…,Array{Float64,1}},Array{Float64,1},Float64}},ConvNorm{Conv{typeof(identity),TrackedArray{…,Array{Float64,4}},TrackedArray{…,Array{Float64,1}},(1, 1),(1, 1),(1, 1)},BatchNorm{typeof(identity),TrackedArray{…,Array{Float64,1}},Array{Float64,1},Float64}},ConvNorm{Conv{typeof(identity),TrackedArray{…,Array{Float64,4}},TrackedArray{…,Array{Float64,1}},(1, 1),(0, 0),(1, 1)},BatchNorm{typeof(identity),TrackedArray{…,Array{Float64,1}},Array{Float64,1},Float64}}},typeof(identity)}((ConvNorm{Conv{typeof(identity),TrackedArray{…,Array{Float64,4}},TrackedArray{…,Array{Float64,1}},(1, 1),(0, 0),(1, 1)},BatchNorm{typeof(identity),TrackedArray{…,Array{Float64,1}},Array{Float64,1},Float64}}(Conv((1, 1), 1024=>256), BatchNorm(256)), ConvNorm{Conv{typeof(identity),TrackedArray{…,Array{Float64,4}},TrackedArray{…,Array{Float64,1}},(1, 1),(1, 1),(1, 1)},BatchNorm{typeof(identity),TrackedArray{…,Array{Float64,1}},Array{Float64,1},Float64}}(Conv((3, 3), 256=>256), BatchNorm(256)), ConvNorm{Conv{typeof(identity),TrackedArray{…,Array{Float64,4}},TrackedArray{…,Array{Float64,1}},(1, 1),(0, 0),(1, 1)},BatchNorm{typeof(identity),TrackedArray{…,Array{Float64,1}},Array{Float64,1},Float64}}(Conv((1, 1), 256=>1024), BatchNorm(1024))), identity), ResidualBlock{Tuple{ConvNorm{Conv{typeof(identity),TrackedArray{…,Array{Float64,4}},TrackedArray{…,Array{Float64,1}},(1, 1),(0, 0),(1, 1)},BatchNorm{typeof(identity),TrackedArray{…,Array{Float64,1}},Array{Float64,1},Float64}},ConvNorm{Conv{typeof(identity),TrackedArray{…,Array{Float64,4}},TrackedArray{…,Array{Float64,1}},(1, 1),(1, 1),(1, 1)},BatchNorm{typeof(identity),TrackedArray{…,Array{Float64,1}},Array{Float64,1},Float64}},ConvNorm{Conv{typeof(identity),TrackedArray{…,Array{Float64,4}},TrackedArray{…,Array{Float64,1}},(1, 1),(0, 0),(1, 1)},BatchNorm{typeof(identity),TrackedArray{…,Array{Float64,1}},Array{Float64,1},Float64}}},typeof(identity)}((ConvNorm{Conv{typeof(identity),TrackedArray{…,Array{Float64,4}},TrackedArray{…,Array{Float64,1}},(1, 1),(0, 0),(1, 1)},BatchNorm{typeof(identity),TrackedArray{…,Array{Float64,1}},Array{Float64,1},Float64}}(Conv((1, 1), 1024=>256), BatchNorm(256)), ConvNorm{Conv{typeof(identity),TrackedArray{…,Array{Float64,4}},TrackedArray{…,Array{Float64,1}},(1, 1),(1, 1),(1, 1)},BatchNorm{typeof(identity),TrackedArray{…,Array{Float64,1}},Array{Float64,1},Float64}}(Conv((3, 3), 256=>256), BatchNorm(256)), ConvNorm{Conv{typeof(identity),TrackedArray{…,Array{Float64,4}},TrackedArray{…,Array{Float64,1}},(1, 1),(0, 0),(1, 1)},BatchNorm{typeof(identity),TrackedArray{…,Array{Float64,1}},Array{Float64,1},Float64}}(Conv((1, 1), 256=>1024), BatchNorm(1024))), identity), ResidualBlock{Tuple{ConvNorm{Conv{typeof(identity),TrackedArray{…,Array{Float64,4}},TrackedArray{…,Array{Float64,1}},(1, 1),(0, 0),(1, 1)},BatchNorm{typeof(identity),TrackedArray{…,Array{Float64,1}},Array{Float64,1},Float64}},ConvNorm{Conv{typeof(identity),TrackedArray{…,Array{Float64,4}},TrackedArray{…,Array{Float64,1}},(1, 1),(1, 1),(1, 1)},BatchNorm{typeof(identity),TrackedArray{…,Array{Float64,1}},Array{Float64,1},Float64}},ConvNorm{Conv{typeof(identity),TrackedArray{…,Array{Float64,4}},TrackedArray{…,Array{Float64,1}},(2, 2),(0, 0),(1, 1)},BatchNorm{typeof(identity),TrackedArray{…,Array{Float64,1}},Array{Float64,1},Float64}}},Chain}((ConvNorm{Conv{typeof(identity),TrackedArray{…,Array{Float64,4}},TrackedArray{…,Array{Float64,1}},(1, 1),(0, 0),(1, 1)},BatchNorm{typeof(identity),TrackedArray{…,Array{Float64,1}},Array{Float64,1},Float64}}(Conv((1, 1), 1024=>512), BatchNorm(512)), ConvNorm{Conv{typeof(identity),TrackedArray{…,Array{Float64,4}},TrackedArray{…,Array{Float64,1}},(1, 1),(1, 1),(1, 1)},BatchNorm{typeof(identity),TrackedArray{…,Array{Float64,1}},Array{Float64,1},Float64}}(Conv((3, 3), 512=>512), BatchNorm(512)), ConvNorm{Conv{typeof(identity),TrackedArray{…,Array{Float64,4}},TrackedArray{…,Array{Float64,1}},(2, 2),(0, 0),(1, 1)},BatchNorm{typeof(identity),TrackedArray{…,Array{Float64,1}},Array{Float64,1},Float64}}(Conv((1, 1), 512=>2048), BatchNorm(2048))), Chain(Conv((1, 1), 1024=>2048), BatchNorm(2048))), ResidualBlock{Tuple{ConvNorm{Conv{typeof(identity),TrackedArray{…,Array{Float64,4}},TrackedArray{…,Array{Float64,1}},(1, 1),(0, 0),(1, 1)},BatchNorm{typeof(identity),TrackedArray{…,Array{Float64,1}},Array{Float64,1},Float64}},ConvNorm{Conv{typeof(identity),TrackedArray{…,Array{Float64,4}},TrackedArray{…,Array{Float64,1}},(1, 1),(1, 1),(1, 1)},BatchNorm{typeof(identity),TrackedArray{…,Array{Float64,1}},Array{Float64,1},Float64}},ConvNorm{Conv{typeof(identity),TrackedArray{…,Array{Float64,4}},TrackedArray{…,Array{Float64,1}},(1, 1),(0, 0),(1, 1)},BatchNorm{typeof(identity),TrackedArray{…,Array{Float64,1}},Array{Float64,1},Float64}}},typeof(identity)}((ConvNorm{Conv{typeof(identity),TrackedArray{…,Array{Float64,4}},TrackedArray{…,Array{Float64,1}},(1, 1),(0, 0),(1, 1)},BatchNorm{typeof(identity),TrackedArray{…,Array{Float64,1}},Array{Float64,1},Float64}}(Conv((1, 1), 2048=>512), BatchNorm(512)), ConvNorm{Conv{typeof(identity),TrackedArray{…,Array{Float64,4}},TrackedArray{…,Array{Float64,1}},(1, 1),(1, 1),(1, 1)},BatchNorm{typeof(identity),TrackedArray{…,Array{Float64,1}},Array{Float64,1},Float64}}(Conv((3, 3), 512=>512), BatchNorm(512)), ConvNorm{Conv{typeof(identity),TrackedArray{…,Array{Float64,4}},TrackedArray{…,Array{Float64,1}},(1, 1),(0, 0),(1, 1)},BatchNorm{typeof(identity),TrackedArray{…,Array{Float64,1}},Array{Float64,1},Float64}}(Conv((1, 1), 512=>2048), BatchNorm(2048))), identity), ResidualBlock{Tuple{ConvNorm{Conv{typeof(identity),TrackedArray{…,Array{Float64,4}},TrackedArray{…,Array{Float64,1}},(1, 1),(0, 0),(1, 1)},BatchNorm{typeof(identity),TrackedArray{…,Array{Float64,1}},Array{Float64,1},Float64}},ConvNorm{Conv{typeof(identity),TrackedArray{…,Array{Float64,4}},TrackedArray{…,Array{Float64,1}},(1, 1),(1, 1),(1, 1)},BatchNorm{typeof(identity),TrackedArray{…,Array{Float64,1}},Array{Float64,1},Float64}},ConvNorm{Conv{typeof(identity),TrackedArray{…,Array{Float64,4}},TrackedArray{…,Array{Float64,1}},(1, 1),(0, 0),(1, 1)},BatchNorm{typeof(identity),TrackedArray{…,Array{Float64,1}},Array{Float64,1},Float64}}},typeof(identity)}((ConvNorm{Conv{typeof(identity),TrackedArray{…,Array{Float64,4}},TrackedArray{…,Array{Float64,1}},(1, 1),(0, 0),(1, 1)},BatchNorm{typeof(identity),TrackedArray{…,Array{Float64,1}},Array{Float64,1},Float64}}(Conv((1, 1), 2048=>512), BatchNorm(512)), ConvNorm{Conv{typeof(identity),TrackedArray{…,Array{Float64,4}},TrackedArray{…,Array{Float64,1}},(1, 1),(1, 1),(1, 1)},BatchNorm{typeof(identity),TrackedArray{…,Array{Float64,1}},Array{Float64,1},Float64}}(Conv((3, 3), 512=>512), BatchNorm(512)), ConvNorm{Conv{typeof(identity),TrackedArray{…,Array{Float64,4}},TrackedArray{…,Array{Float64,1}},(1, 1),(0, 0),(1, 1)},BatchNorm{typeof(identity),TrackedArray{…,Array{Float64,1}},Array{Float64,1},Float64}}(Conv((1, 1), 512=>2048), BatchNorm(2048))), identity), getfield(Main, Symbol(\"##10#13\"))(), getfield(Main, Symbol(\"##11#14\"))(), Dense(2048, 1000))"
      ]
     },
     "execution_count": 10,
     "metadata": {},
     "output_type": "execute_result"
    }
   ],
   "source": [
    "model"
   ]
  },
  {
   "cell_type": "code",
   "execution_count": 11,
   "metadata": {},
   "outputs": [
    {
     "data": {
      "text/plain": [
       "map_to_tpu (generic function with 3 methods)"
      ]
     },
     "execution_count": 11,
     "metadata": {},
     "output_type": "execute_result"
    }
   ],
   "source": [
    "# Convert scalars to single-element XRTArrays with eltype Float32:\n",
    "map_to_tpu(x::Real) = XRTArray(convert(Float32, x))\n",
    "\n",
    "# Convert arrays to XRTArrays with eltype Float32\n",
    "map_to_tpu(x::AbstractArray) = XRTArray(Float32.(x))\n",
    "\n",
    "# Strip off the TrackedArray coating to get at the data underneath\n",
    "map_to_tpu(x::TrackedArray) = map_to_tpu(Flux.data(x))"
   ]
  },
  {
   "cell_type": "code",
   "execution_count": 12,
   "metadata": {},
   "outputs": [
    {
     "data": {
      "text/plain": [
       "map_to_tpu (generic function with 4 methods)"
      ]
     },
     "execution_count": 12,
     "metadata": {},
     "output_type": "execute_result"
    }
   ],
   "source": [
    "# Turn Chain objects into ImmutableChain objects which store the computation within their type signature\n",
    "map_to_tpu(x::Chain) = ImmutableChain(tuple(map(map_to_tpu, x.layers)...))"
   ]
  },
  {
   "cell_type": "code",
   "execution_count": 13,
   "metadata": {},
   "outputs": [
    {
     "data": {
      "text/plain": [
       "map_to_tpu (generic function with 6 methods)"
      ]
     },
     "execution_count": 13,
     "metadata": {},
     "output_type": "execute_result"
    }
   ],
   "source": [
    "# Convert BatchNorm layers into TPUBatchNorm layers, passing all children straight through,\n",
    "# except for the \"active\" child, which is not used by the TPUBatchNorm\n",
    "map_to_tpu(x::BatchNorm) = TPUBatchNorm(map(map_to_tpu, Flux.children(x))[1:end-1]...)\n",
    "\n",
    "# For all other objects, just map the children through `map_to_tpu`.\n",
    "map_to_tpu(x) = Flux.mapchildren(map_to_tpu, x)"
   ]
  },
  {
   "cell_type": "code",
   "execution_count": 14,
   "metadata": {},
   "outputs": [
    {
     "name": "stdout",
     "output_type": "stream",
     "text": [
      "=> Mapped model to TPU-specific construction\n"
     ]
    }
   ],
   "source": [
    "# Convert our model to the TPU-compatible version\n",
    "tpu_model = map_to_tpu(model)\n",
    "println(\"=> Mapped model to TPU-specific construction\")"
   ]
  },
  {
   "cell_type": "code",
   "execution_count": 21,
   "metadata": {},
   "outputs": [
    {
     "data": {
      "text/plain": [
       "TPUSession(<8 TPU chips in 2x2x2 topology>)"
      ]
     },
     "execution_count": 21,
     "metadata": {},
     "output_type": "execute_result"
    }
   ],
   "source": [
    "sess = XLA.global_session()"
   ]
  },
  {
   "cell_type": "code",
   "execution_count": 16,
   "metadata": {},
   "outputs": [
    {
     "name": "stdout",
     "output_type": "stream",
     "text": [
      "=> Compiled model in 25.4 seconds\n"
     ]
    }
   ],
   "source": [
    "# Generate random input tensor; a batch of two images with spatial dimensions 224x224 and 3 color channels.\n",
    "x = randn(Float32, 224, 224, 3, 2)\n",
    "\n",
    "# Compile the model\n",
    "t_start = time()\n",
    "compilation_handle = @tpu_compile tpu_model(XRTArray(x));\n",
    "t_end = time()\n",
    "\n",
    "println(@sprintf(\"=> Compiled model in %.1f seconds\", t_end - t_start))"
   ]
  },
  {
   "cell_type": "code",
   "execution_count": 17,
   "metadata": {},
   "outputs": [
    {
     "data": {
      "text/plain": [
       "1000×2 Array{Float32,2}:\n",
       "  1.81539e-5    2.09023e-5 \n",
       " -5.42454e-5   -5.25179e-5 \n",
       " -1.56214e-5   -1.22324e-5 \n",
       "  0.000155268   0.000155821\n",
       " -5.91386e-5   -5.75492e-5 \n",
       " -3.19285e-5   -3.53732e-5 \n",
       " -7.06474e-5   -7.14953e-5 \n",
       "  2.20283e-5    2.41391e-5 \n",
       "  1.13976e-5    1.23968e-5 \n",
       "  8.18762e-5    8.70266e-5 \n",
       " -3.20497e-6   -7.33725e-6 \n",
       " -4.44512e-5   -4.76904e-5 \n",
       " -9.84007e-6   -1.09302e-5 \n",
       "  ⋮                        \n",
       " -1.9436e-5    -2.35541e-5 \n",
       " -5.56776e-5   -5.43198e-5 \n",
       " -0.00012961   -0.000130888\n",
       " -8.91272e-6   -1.17211e-5 \n",
       "  9.09237e-5    9.48471e-5 \n",
       "  7.37733e-6    9.61347e-6 \n",
       " -6.70669e-5   -6.94975e-5 \n",
       "  1.86076e-6    5.69155e-6 \n",
       "  5.37806e-5    5.63621e-5 \n",
       " -1.60607e-5   -1.77981e-5 \n",
       " -5.18579e-5   -5.7929e-5  \n",
       "  8.68041e-6    1.11374e-5 "
      ]
     },
     "execution_count": 17,
     "metadata": {},
     "output_type": "execute_result"
    }
   ],
   "source": [
    "# Run the actual computation\n",
    "y_hat = run(compilation_handle,\n",
    "    # Transfer model weights\n",
    "    XRTRemoteStruct(sess, tpu_model),\n",
    "    # Transfer `x`\n",
    "    XRTArray(sess, x)\n",
    ")\n",
    "\n",
    "# Convert the output (which is an XRTArray) back to a normal array:\n",
    "y_hat = convert(Array, y_hat)"
   ]
  },
  {
   "cell_type": "code",
   "execution_count": 19,
   "metadata": {},
   "outputs": [
    {
     "data": {
      "text/plain": [
       "10000×10000 Array{Float32,2}:\n",
       " -0.189216    -1.95704   -0.737223   …  -1.86042    -0.149628   0.0808288 \n",
       "  0.674105    -0.79257    0.350785       1.01       -1.4645    -0.759999  \n",
       "  0.362692     0.695428  -0.518256      -1.71806     0.299607  -0.433602  \n",
       "  0.437972     1.84829    1.34592        0.404573   -0.406487   1.10476   \n",
       " -0.00768761  -0.197155  -0.478345      -0.954738    1.35997    1.62676   \n",
       "  0.699404    -1.45793   -0.193891   …   0.736012   -0.114141   0.207301  \n",
       "  0.383571     0.742821   1.22514       -0.072488   -1.12156   -0.972458  \n",
       "  0.292158    -0.756964   2.13811       -0.424003    0.620816  -0.00675654\n",
       "  0.081198     0.839658  -1.12331       -0.625341    1.83545   -1.98919   \n",
       " -0.945358    -0.70656   -0.236072      -0.967783    2.10358    0.354022  \n",
       "  0.218459    -0.553928   0.0739628  …   0.280869    0.450684   1.19361   \n",
       "  1.32564     -0.112511  -0.935753      -1.32825     2.10403    0.577871  \n",
       "  0.172898    -0.993238   0.466127       0.165697    1.27951   -0.913853  \n",
       "  ⋮                                  ⋱                                    \n",
       "  0.553231    -2.39714   -0.244127       1.23716    -1.30229   -1.31918   \n",
       " -2.99788     -1.35873    2.32963        1.14845    -0.521906  -0.163157  \n",
       "  1.11408     -1.53706    0.485047   …   0.105585    0.97246    0.353492  \n",
       "  0.187616    -0.179434  -0.398038      -0.18564     0.41983   -0.0740917 \n",
       "  1.99313     -1.00254    0.969167       0.780377   -1.34377   -1.10069   \n",
       "  1.14021      1.2685    -0.0919142      1.76943    -2.28058    0.532634  \n",
       "  0.979981     0.139779  -0.2069        -0.119185    0.145749  -1.83639   \n",
       " -0.115106    -0.45936    1.30667    …  -0.0150526   1.1442     0.425715  \n",
       "  1.04273      2.40232   -0.564622      -2.09455     1.12275    0.532485  \n",
       " -0.525808    -1.24302    0.0727103      1.06417     0.184994  -0.405976  \n",
       "  0.214476     1.06302   -0.293409       0.0709424   0.287526  -2.51753   \n",
       " -1.38465      1.04646    0.594663       0.24497     0.400412   0.208708  "
      ]
     },
     "execution_count": 19,
     "metadata": {},
     "output_type": "execute_result"
    }
   ],
   "source": [
    "hostA = randn(Float32, 10000, 10000)"
   ]
  },
  {
   "cell_type": "code",
   "execution_count": 22,
   "metadata": {},
   "outputs": [
    {
     "data": {
      "text/plain": [
       "10000×10000 XRTArray{Float32,(10000, 10000),2}:\n",
       " -0.189216    -1.95704   -0.737223   …  -1.86042    -0.149628   0.0808288 \n",
       "  0.674105    -0.79257    0.350785       1.01       -1.4645    -0.759999  \n",
       "  0.362692     0.695428  -0.518256      -1.71806     0.299607  -0.433602  \n",
       "  0.437972     1.84829    1.34592        0.404573   -0.406487   1.10476   \n",
       " -0.00768761  -0.197155  -0.478345      -0.954738    1.35997    1.62676   \n",
       "  0.699404    -1.45793   -0.193891   …   0.736012   -0.114141   0.207301  \n",
       "  0.383571     0.742821   1.22514       -0.072488   -1.12156   -0.972458  \n",
       "  0.292158    -0.756964   2.13811       -0.424003    0.620816  -0.00675654\n",
       "  0.081198     0.839658  -1.12331       -0.625341    1.83545   -1.98919   \n",
       " -0.945358    -0.70656   -0.236072      -0.967783    2.10358    0.354022  \n",
       "  0.218459    -0.553928   0.0739628  …   0.280869    0.450684   1.19361   \n",
       "  1.32564     -0.112511  -0.935753      -1.32825     2.10403    0.577871  \n",
       "  0.172898    -0.993238   0.466127       0.165697    1.27951   -0.913853  \n",
       "  ⋮                                  ⋱                                    \n",
       "  0.553231    -2.39714   -0.244127       1.23716    -1.30229   -1.31918   \n",
       " -2.99788     -1.35873    2.32963        1.14845    -0.521906  -0.163157  \n",
       "  1.11408     -1.53706    0.485047   …   0.105585    0.97246    0.353492  \n",
       "  0.187616    -0.179434  -0.398038      -0.18564     0.41983   -0.0740917 \n",
       "  1.99313     -1.00254    0.969167       0.780377   -1.34377   -1.10069   \n",
       "  1.14021      1.2685    -0.0919142      1.76943    -2.28058    0.532634  \n",
       "  0.979981     0.139779  -0.2069        -0.119185    0.145749  -1.83639   \n",
       " -0.115106    -0.45936    1.30667    …  -0.0150526   1.1442     0.425715  \n",
       "  1.04273      2.40232   -0.564622      -2.09455     1.12275    0.532485  \n",
       " -0.525808    -1.24302    0.0727103      1.06417     0.184994  -0.405976  \n",
       "  0.214476     1.06302   -0.293409       0.0709424   0.287526  -2.51753   \n",
       " -1.38465      1.04646    0.594663       0.24497     0.400412   0.208708  "
      ]
     },
     "execution_count": 22,
     "metadata": {},
     "output_type": "execute_result"
    }
   ],
   "source": [
    "A = tpu(hostA)"
   ]
  },
  {
   "cell_type": "code",
   "execution_count": 23,
   "metadata": {},
   "outputs": [
    {
     "data": {
      "text/plain": [
       "f (generic function with 1 method)"
      ]
     },
     "execution_count": 23,
     "metadata": {},
     "output_type": "execute_result"
    }
   ],
   "source": [
    "f(A) = A*A*A"
   ]
  },
  {
   "cell_type": "code",
   "execution_count": 24,
   "metadata": {},
   "outputs": [
    {
     "name": "stdout",
     "output_type": "stream",
     "text": [
      " 32.777320 seconds (852.34 k allocations: 803.996 MiB, 1.10% gc time)\n"
     ]
    },
    {
     "data": {
      "text/plain": [
       "10000×10000 Array{Float32,2}:\n",
       "  -5642.71   -11280.8     -10414.0      2325.65  …  -14182.0      3968.64  \n",
       " -10058.3    -21047.6        890.839    5978.24     -14372.0     -2442.49  \n",
       "   -508.2     -8644.52       352.602    6787.74      23719.0      3268.85  \n",
       " -23663.3      7478.51    -13939.3    -16498.9       13180.3    -20923.2   \n",
       "   5431.43     2901.55     10584.2    -12368.0       -6503.72     -807.986 \n",
       "  -2680.03      472.395    -3345.41    -4398.51  …    5966.9     -2089.4   \n",
       "  -5328.76      988.115    -3435.57     7704.19      -4026.66   -13579.7   \n",
       "  15298.9       -79.0763   -7566.9     -6367.74       2468.21   -11133.3   \n",
       " -11224.7      1787.73     -1558.42     8164.88      11257.3      1592.76  \n",
       "  22683.5     -4927.21     -4016.52    -4512.01      14351.0     -1806.08  \n",
       "  15753.1     -3553.98     14116.2     -7708.78  …   14304.7      6938.75  \n",
       "  15719.8      9550.54     -5642.57    12959.0        7281.83      -58.0066\n",
       "   8048.02    14715.0      -2718.85    -7886.48      11411.8     -4275.1   \n",
       "      ⋮                                          ⋱                         \n",
       "  -2909.87     7290.56      1053.89    -2286.21      -1323.34    -6312.67  \n",
       "  -2341.66   -31977.4       5461.29    -4048.69       -295.332   10805.1   \n",
       "   6705.95    19381.2      -6912.46     1741.27  …    6022.06    -5628.99  \n",
       "  -2345.47   -10603.0      -1928.63    17614.8       14797.4     -9116.1   \n",
       "  13821.4      3350.13      4533.74     1406.18        700.598    4515.27  \n",
       "   3967.9      7996.69      4437.12   -17481.3      -15685.5      1561.59  \n",
       "   -659.696     327.903    -3021.6      5606.08      -1168.31   -10904.0   \n",
       " -12101.2      3166.34     -4926.52     4685.24  …   -5391.69     3348.87  \n",
       "  -4626.14    -6901.31     15229.5      8392.19       3345.37    12105.7   \n",
       "  10022.6      6680.29     -3247.48    27312.8       -4171.56    18082.1   \n",
       "   4310.87    -2541.51      6152.3     13782.8       -6804.56    20291.4   \n",
       "   1807.82    -5962.94     10587.4      6133.33      -9350.96     6743.67  "
      ]
     },
     "execution_count": 24,
     "metadata": {},
     "output_type": "execute_result"
    }
   ],
   "source": [
    "@time f(hostA)"
   ]
  },
  {
   "cell_type": "code",
   "execution_count": 25,
   "metadata": {},
   "outputs": [
    {
     "name": "stdout",
     "output_type": "stream",
     "text": [
      " 32.143799 seconds (8 allocations: 762.940 MiB, 1.20% gc time)\n"
     ]
    },
    {
     "data": {
      "text/plain": [
       "10000×10000 Array{Float32,2}:\n",
       "  -5642.71   -11280.8     -10414.0      2325.65  …  -14182.0      3968.64  \n",
       " -10058.3    -21047.6        890.839    5978.24     -14372.0     -2442.49  \n",
       "   -508.2     -8644.52       352.602    6787.74      23719.0      3268.85  \n",
       " -23663.3      7478.51    -13939.3    -16498.9       13180.3    -20923.2   \n",
       "   5431.43     2901.55     10584.2    -12368.0       -6503.72     -807.986 \n",
       "  -2680.03      472.395    -3345.41    -4398.51  …    5966.9     -2089.4   \n",
       "  -5328.76      988.115    -3435.57     7704.19      -4026.66   -13579.7   \n",
       "  15298.9       -79.0763   -7566.9     -6367.74       2468.21   -11133.3   \n",
       " -11224.7      1787.73     -1558.42     8164.88      11257.3      1592.76  \n",
       "  22683.5     -4927.21     -4016.52    -4512.01      14351.0     -1806.08  \n",
       "  15753.1     -3553.98     14116.2     -7708.78  …   14304.7      6938.75  \n",
       "  15719.8      9550.54     -5642.57    12959.0        7281.83      -58.0066\n",
       "   8048.02    14715.0      -2718.85    -7886.48      11411.8     -4275.1   \n",
       "      ⋮                                          ⋱                         \n",
       "  -2909.87     7290.56      1053.89    -2286.21      -1323.34    -6312.67  \n",
       "  -2341.66   -31977.4       5461.29    -4048.69       -295.332   10805.1   \n",
       "   6705.95    19381.2      -6912.46     1741.27  …    6022.06    -5628.99  \n",
       "  -2345.47   -10603.0      -1928.63    17614.8       14797.4     -9116.1   \n",
       "  13821.4      3350.13      4533.74     1406.18        700.598    4515.27  \n",
       "   3967.9      7996.69      4437.12   -17481.3      -15685.5      1561.59  \n",
       "   -659.696     327.903    -3021.6      5606.08      -1168.31   -10904.0   \n",
       " -12101.2      3166.34     -4926.52     4685.24  …   -5391.69     3348.87  \n",
       "  -4626.14    -6901.31     15229.5      8392.19       3345.37    12105.7   \n",
       "  10022.6      6680.29     -3247.48    27312.8       -4171.56    18082.1   \n",
       "   4310.87    -2541.51      6152.3     13782.8       -6804.56    20291.4   \n",
       "   1807.82    -5962.94     10587.4      6133.33      -9350.96     6743.67  "
      ]
     },
     "execution_count": 25,
     "metadata": {},
     "output_type": "execute_result"
    }
   ],
   "source": [
    "@time f(hostA)"
   ]
  },
  {
   "cell_type": "code",
   "execution_count": 29,
   "metadata": {},
   "outputs": [
    {
     "name": "stdout",
     "output_type": "stream",
     "text": [
      " 26.286406 seconds (200.34 M allocations: 5.741 GiB, 14.16% gc time)\n"
     ]
    }
   ],
   "source": [
    "@time @tpu f(A);"
   ]
  },
  {
   "cell_type": "code",
   "execution_count": 30,
   "metadata": {},
   "outputs": [
    {
     "name": "stdout",
     "output_type": "stream",
     "text": [
      "  1.093364 seconds (6.31 k allocations: 314.516 KiB)\n"
     ]
    }
   ],
   "source": [
    "@time @tpu f(A);"
   ]
  },
  {
   "cell_type": "code",
   "execution_count": 31,
   "metadata": {},
   "outputs": [
    {
     "data": {
      "text/plain": [
       "g (generic function with 1 method)"
      ]
     },
     "execution_count": 31,
     "metadata": {},
     "output_type": "execute_result"
    }
   ],
   "source": [
    "g() = randn(XRTArray{Float32}, 10000, 10000)"
   ]
  },
  {
   "cell_type": "code",
   "execution_count": 32,
   "metadata": {},
   "outputs": [
    {
     "name": "stdout",
     "output_type": "stream",
     "text": [
      "  0.616796 seconds (553.66 k allocations: 28.581 MiB, 5.45% gc time)\n"
     ]
    }
   ],
   "source": [
    "@time @tpu g();"
   ]
  },
  {
   "cell_type": "code",
   "execution_count": 33,
   "metadata": {},
   "outputs": [
    {
     "data": {
      "text/plain": [
       "h (generic function with 1 method)"
      ]
     },
     "execution_count": 33,
     "metadata": {},
     "output_type": "execute_result"
    }
   ],
   "source": [
    "h() = f(g())"
   ]
  },
  {
   "cell_type": "code",
   "execution_count": 34,
   "metadata": {},
   "outputs": [
    {
     "name": "stdout",
     "output_type": "stream",
     "text": [
      "  1.217658 seconds (112.30 k allocations: 5.811 MiB, 2.45% gc time)\n"
     ]
    }
   ],
   "source": [
    "@time @tpu h();"
   ]
  },
  {
   "cell_type": "code",
   "execution_count": 35,
   "metadata": {},
   "outputs": [
    {
     "ename": "ErrorException",
     "evalue": "error in method definition: function NNlib.relu must be explicitly imported to be extended",
     "output_type": "error",
     "traceback": [
      "error in method definition: function NNlib.relu must be explicitly imported to be extended",
      "",
      "Stacktrace:",
      " [1] top-level scope at In[35]:1"
     ]
    }
   ],
   "source": [
    "relu(x) = max(x, zero(x))"
   ]
  },
  {
   "cell_type": "code",
   "execution_count": 36,
   "metadata": {},
   "outputs": [
    {
     "data": {
      "text/plain": [
       "reluu (generic function with 1 method)"
      ]
     },
     "execution_count": 36,
     "metadata": {},
     "output_type": "execute_result"
    }
   ],
   "source": [
    "reluu(x) = max(x, zero(x))"
   ]
  },
  {
   "cell_type": "code",
   "execution_count": 37,
   "metadata": {},
   "outputs": [
    {
     "ename": "UndefVarError",
     "evalue": "UndefVarError: plot not defined",
     "output_type": "error",
     "traceback": [
      "UndefVarError: plot not defined",
      "",
      "Stacktrace:",
      " [1] top-level scope at In[37]:1"
     ]
    }
   ],
   "source": [
    "plot(reluu, -1.0, 1.0)"
   ]
  },
  {
   "cell_type": "code",
   "execution_count": 41,
   "metadata": {},
   "outputs": [
    {
     "ename": "ArgumentError",
     "evalue": "ArgumentError: Package Plots not found in current path:\n- Run `import Pkg; Pkg.add(\"Plots\")` to install the Plots package.\n",
     "output_type": "error",
     "traceback": [
      "ArgumentError: Package Plots not found in current path:\n- Run `import Pkg; Pkg.add(\"Plots\")` to install the Plots package.\n",
      "",
      "Stacktrace:",
      " [1] require(::Module, ::Symbol) at ./loading.jl:823",
      " [2] top-level scope at In[41]:1"
     ]
    }
   ],
   "source": [
    "using Plots"
   ]
  },
  {
   "cell_type": "code",
   "execution_count": 42,
   "metadata": {},
   "outputs": [
    {
     "name": "stdout",
     "output_type": "stream",
     "text": [
      "\u001b[32m\u001b[1m Resolving\u001b[22m\u001b[39m package versions...\n",
      "\u001b[32m\u001b[1m Installed\u001b[22m\u001b[39m Plots ───────── v0.27.0\n",
      "\u001b[32m\u001b[1m Installed\u001b[22m\u001b[39m GeometryTypes ─ v0.7.6\n",
      "\u001b[32m\u001b[1m Installed\u001b[22m\u001b[39m Contour ─────── v0.5.1\n",
      "\u001b[32m\u001b[1m Installed\u001b[22m\u001b[39m PlotUtils ───── v0.6.1\n",
      "\u001b[32m\u001b[1m Installed\u001b[22m\u001b[39m PlotThemes ──── v0.4.0\n",
      "\u001b[32m\u001b[1m Installed\u001b[22m\u001b[39m GR ──────────── v0.42.0\n",
      "\u001b[32m\u001b[1m Installed\u001b[22m\u001b[39m FFMPEG ──────── v0.2.3\n",
      "\u001b[32m\u001b[1m  Updating\u001b[22m\u001b[39m `~/XLA.jl/Project.toml`\n",
      " \u001b[90m [91a5bcdd]\u001b[39m\u001b[92m + Plots v0.27.0\u001b[39m\n",
      "\u001b[32m\u001b[1m  Updating\u001b[22m\u001b[39m `~/XLA.jl/Manifest.toml`\n",
      " \u001b[90m [d38c429a]\u001b[39m\u001b[92m + Contour v0.5.1\u001b[39m\n",
      " \u001b[90m [c87230d0]\u001b[39m\u001b[92m + FFMPEG v0.2.3\u001b[39m\n",
      " \u001b[90m [28b8d3ca]\u001b[39m\u001b[92m + GR v0.42.0\u001b[39m\n",
      " \u001b[90m [4d00f742]\u001b[39m\u001b[92m + GeometryTypes v0.7.6\u001b[39m\n",
      " \u001b[90m [442fdcdd]\u001b[39m\u001b[92m + Measures v0.3.0\u001b[39m\n",
      " \u001b[90m [ccf2f8ad]\u001b[39m\u001b[92m + PlotThemes v0.4.0\u001b[39m\n",
      " \u001b[90m [995b91a9]\u001b[39m\u001b[92m + PlotUtils v0.6.1\u001b[39m\n",
      " \u001b[90m [91a5bcdd]\u001b[39m\u001b[92m + Plots v0.27.0\u001b[39m\n",
      " \u001b[90m [3cdcf5f2]\u001b[39m\u001b[92m + RecipesBase v0.7.0\u001b[39m\n",
      " \u001b[90m [992d4aef]\u001b[39m\u001b[92m + Showoff v0.3.1\u001b[39m\n",
      "\u001b[32m\u001b[1m  Building\u001b[22m\u001b[39m GR ────→ `~/.julia/packages/GR/f1Iqi/deps/build.log`\n",
      "\u001b[32m\u001b[1m  Building\u001b[22m\u001b[39m FFMPEG → `~/.julia/packages/FFMPEG/bkWgb/deps/build.log`\n",
      "\u001b[32m\u001b[1m  Building\u001b[22m\u001b[39m Plots ─→ `~/.julia/packages/Plots/Iuc9S/deps/build.log`\n"
     ]
    }
   ],
   "source": [
    "Pkg.add(\"Plots\")"
   ]
  },
  {
   "cell_type": "code",
   "execution_count": 43,
   "metadata": {},
   "outputs": [
    {
     "name": "stderr",
     "output_type": "stream",
     "text": [
      "┌ Info: Precompiling Plots [91a5bcdd-55d7-5caf-9e0b-520d859cae80]\n",
      "└ @ Base loading.jl:1186\n",
      "┌ Warning: Module NaNMath with build ID 87249221987306 is missing from the cache.\n",
      "│ This may mean NaNMath [77ba4419-2d1f-58cd-9bb1-8ffee604a2e3] does not support precompilation but is imported by a module that does.\n",
      "└ @ Base loading.jl:947\n",
      "┌ Info: Precompiling Measures [442fdcdd-2543-5da2-b0f3-8c86c306513e]\n",
      "└ @ Base loading.jl:1186\n",
      "┌ Info: Precompiling GR [28b8d3ca-fb5f-59d9-8090-bfdbd6d07a71]\n",
      "└ @ Base loading.jl:1186\n"
     ]
    }
   ],
   "source": [
    "using Plots"
   ]
  },
  {
   "cell_type": "code",
   "execution_count": 44,
   "metadata": {},
   "outputs": [
    {
     "data": {
      "image/svg+xml": [
       "<?xml version=\"1.0\" encoding=\"utf-8\"?>\n",
       "<svg xmlns=\"http://www.w3.org/2000/svg\" xmlns:xlink=\"http://www.w3.org/1999/xlink\" width=\"600\" height=\"400\" viewBox=\"0 0 2400 1600\">\n",
       "<defs>\n",
       "  <clipPath id=\"clip6100\">\n",
       "    <rect x=\"0\" y=\"0\" width=\"2400\" height=\"1600\"/>\n",
       "  </clipPath>\n",
       "</defs>\n",
       "<path clip-path=\"url(#clip6100)\" d=\"\n",
       "M0 1600 L2400 1600 L2400 0 L0 0  Z\n",
       "  \" fill=\"#ffffff\" fill-rule=\"evenodd\" fill-opacity=\"1\"/>\n",
       "<defs>\n",
       "  <clipPath id=\"clip6101\">\n",
       "    <rect x=\"480\" y=\"0\" width=\"1681\" height=\"1600\"/>\n",
       "  </clipPath>\n",
       "</defs>\n",
       "<path clip-path=\"url(#clip6100)\" d=\"\n",
       "M180.66 1487.47 L2352.76 1487.47 L2352.76 47.2441 L180.66 47.2441  Z\n",
       "  \" fill=\"#ffffff\" fill-rule=\"evenodd\" fill-opacity=\"1\"/>\n",
       "<defs>\n",
       "  <clipPath id=\"clip6102\">\n",
       "    <rect x=\"180\" y=\"47\" width=\"2173\" height=\"1441\"/>\n",
       "  </clipPath>\n",
       "</defs>\n",
       "<polyline clip-path=\"url(#clip6102)\" style=\"stroke:#000000; stroke-width:2; stroke-opacity:0.1; fill:none\" points=\"\n",
       "  242.135,1487.47 242.135,47.2441 \n",
       "  \"/>\n",
       "<polyline clip-path=\"url(#clip6102)\" style=\"stroke:#000000; stroke-width:2; stroke-opacity:0.1; fill:none\" points=\"\n",
       "  754.421,1487.47 754.421,47.2441 \n",
       "  \"/>\n",
       "<polyline clip-path=\"url(#clip6102)\" style=\"stroke:#000000; stroke-width:2; stroke-opacity:0.1; fill:none\" points=\"\n",
       "  1266.71,1487.47 1266.71,47.2441 \n",
       "  \"/>\n",
       "<polyline clip-path=\"url(#clip6102)\" style=\"stroke:#000000; stroke-width:2; stroke-opacity:0.1; fill:none\" points=\"\n",
       "  1778.99,1487.47 1778.99,47.2441 \n",
       "  \"/>\n",
       "<polyline clip-path=\"url(#clip6102)\" style=\"stroke:#000000; stroke-width:2; stroke-opacity:0.1; fill:none\" points=\"\n",
       "  2291.28,1487.47 2291.28,47.2441 \n",
       "  \"/>\n",
       "<polyline clip-path=\"url(#clip6102)\" style=\"stroke:#000000; stroke-width:2; stroke-opacity:0.1; fill:none\" points=\"\n",
       "  180.66,1446.71 2352.76,1446.71 \n",
       "  \"/>\n",
       "<polyline clip-path=\"url(#clip6102)\" style=\"stroke:#000000; stroke-width:2; stroke-opacity:0.1; fill:none\" points=\"\n",
       "  180.66,1107.04 2352.76,1107.04 \n",
       "  \"/>\n",
       "<polyline clip-path=\"url(#clip6102)\" style=\"stroke:#000000; stroke-width:2; stroke-opacity:0.1; fill:none\" points=\"\n",
       "  180.66,767.359 2352.76,767.359 \n",
       "  \"/>\n",
       "<polyline clip-path=\"url(#clip6102)\" style=\"stroke:#000000; stroke-width:2; stroke-opacity:0.1; fill:none\" points=\"\n",
       "  180.66,427.682 2352.76,427.682 \n",
       "  \"/>\n",
       "<polyline clip-path=\"url(#clip6102)\" style=\"stroke:#000000; stroke-width:2; stroke-opacity:0.1; fill:none\" points=\"\n",
       "  180.66,88.0053 2352.76,88.0053 \n",
       "  \"/>\n",
       "<polyline clip-path=\"url(#clip6100)\" style=\"stroke:#000000; stroke-width:4; stroke-opacity:1; fill:none\" points=\"\n",
       "  180.66,1487.47 2352.76,1487.47 \n",
       "  \"/>\n",
       "<polyline clip-path=\"url(#clip6100)\" style=\"stroke:#000000; stroke-width:4; stroke-opacity:1; fill:none\" points=\"\n",
       "  180.66,1487.47 180.66,47.2441 \n",
       "  \"/>\n",
       "<polyline clip-path=\"url(#clip6100)\" style=\"stroke:#000000; stroke-width:4; stroke-opacity:1; fill:none\" points=\"\n",
       "  242.135,1487.47 242.135,1465.87 \n",
       "  \"/>\n",
       "<polyline clip-path=\"url(#clip6100)\" style=\"stroke:#000000; stroke-width:4; stroke-opacity:1; fill:none\" points=\"\n",
       "  754.421,1487.47 754.421,1465.87 \n",
       "  \"/>\n",
       "<polyline clip-path=\"url(#clip6100)\" style=\"stroke:#000000; stroke-width:4; stroke-opacity:1; fill:none\" points=\"\n",
       "  1266.71,1487.47 1266.71,1465.87 \n",
       "  \"/>\n",
       "<polyline clip-path=\"url(#clip6100)\" style=\"stroke:#000000; stroke-width:4; stroke-opacity:1; fill:none\" points=\"\n",
       "  1778.99,1487.47 1778.99,1465.87 \n",
       "  \"/>\n",
       "<polyline clip-path=\"url(#clip6100)\" style=\"stroke:#000000; stroke-width:4; stroke-opacity:1; fill:none\" points=\"\n",
       "  2291.28,1487.47 2291.28,1465.87 \n",
       "  \"/>\n",
       "<polyline clip-path=\"url(#clip6100)\" style=\"stroke:#000000; stroke-width:4; stroke-opacity:1; fill:none\" points=\"\n",
       "  180.66,1446.71 213.242,1446.71 \n",
       "  \"/>\n",
       "<polyline clip-path=\"url(#clip6100)\" style=\"stroke:#000000; stroke-width:4; stroke-opacity:1; fill:none\" points=\"\n",
       "  180.66,1107.04 213.242,1107.04 \n",
       "  \"/>\n",
       "<polyline clip-path=\"url(#clip6100)\" style=\"stroke:#000000; stroke-width:4; stroke-opacity:1; fill:none\" points=\"\n",
       "  180.66,767.359 213.242,767.359 \n",
       "  \"/>\n",
       "<polyline clip-path=\"url(#clip6100)\" style=\"stroke:#000000; stroke-width:4; stroke-opacity:1; fill:none\" points=\"\n",
       "  180.66,427.682 213.242,427.682 \n",
       "  \"/>\n",
       "<polyline clip-path=\"url(#clip6100)\" style=\"stroke:#000000; stroke-width:4; stroke-opacity:1; fill:none\" points=\"\n",
       "  180.66,88.0053 213.242,88.0053 \n",
       "  \"/>\n",
       "<g clip-path=\"url(#clip6100)\">\n",
       "<text style=\"fill:#000000; fill-opacity:1; font-family:Arial,Helvetica Neue,Helvetica,sans-serif; font-size:48px; text-anchor:middle;\" transform=\"rotate(0, 242.135, 1541.47)\" x=\"242.135\" y=\"1541.47\">-1.0</text>\n",
       "</g>\n",
       "<g clip-path=\"url(#clip6100)\">\n",
       "<text style=\"fill:#000000; fill-opacity:1; font-family:Arial,Helvetica Neue,Helvetica,sans-serif; font-size:48px; text-anchor:middle;\" transform=\"rotate(0, 754.421, 1541.47)\" x=\"754.421\" y=\"1541.47\">-0.5</text>\n",
       "</g>\n",
       "<g clip-path=\"url(#clip6100)\">\n",
       "<text style=\"fill:#000000; fill-opacity:1; font-family:Arial,Helvetica Neue,Helvetica,sans-serif; font-size:48px; text-anchor:middle;\" transform=\"rotate(0, 1266.71, 1541.47)\" x=\"1266.71\" y=\"1541.47\">0.0</text>\n",
       "</g>\n",
       "<g clip-path=\"url(#clip6100)\">\n",
       "<text style=\"fill:#000000; fill-opacity:1; font-family:Arial,Helvetica Neue,Helvetica,sans-serif; font-size:48px; text-anchor:middle;\" transform=\"rotate(0, 1778.99, 1541.47)\" x=\"1778.99\" y=\"1541.47\">0.5</text>\n",
       "</g>\n",
       "<g clip-path=\"url(#clip6100)\">\n",
       "<text style=\"fill:#000000; fill-opacity:1; font-family:Arial,Helvetica Neue,Helvetica,sans-serif; font-size:48px; text-anchor:middle;\" transform=\"rotate(0, 2291.28, 1541.47)\" x=\"2291.28\" y=\"1541.47\">1.0</text>\n",
       "</g>\n",
       "<g clip-path=\"url(#clip6100)\">\n",
       "<text style=\"fill:#000000; fill-opacity:1; font-family:Arial,Helvetica Neue,Helvetica,sans-serif; font-size:48px; text-anchor:end;\" transform=\"rotate(0, 156.66, 1464.21)\" x=\"156.66\" y=\"1464.21\">0.00</text>\n",
       "</g>\n",
       "<g clip-path=\"url(#clip6100)\">\n",
       "<text style=\"fill:#000000; fill-opacity:1; font-family:Arial,Helvetica Neue,Helvetica,sans-serif; font-size:48px; text-anchor:end;\" transform=\"rotate(0, 156.66, 1124.54)\" x=\"156.66\" y=\"1124.54\">0.25</text>\n",
       "</g>\n",
       "<g clip-path=\"url(#clip6100)\">\n",
       "<text style=\"fill:#000000; fill-opacity:1; font-family:Arial,Helvetica Neue,Helvetica,sans-serif; font-size:48px; text-anchor:end;\" transform=\"rotate(0, 156.66, 784.859)\" x=\"156.66\" y=\"784.859\">0.50</text>\n",
       "</g>\n",
       "<g clip-path=\"url(#clip6100)\">\n",
       "<text style=\"fill:#000000; fill-opacity:1; font-family:Arial,Helvetica Neue,Helvetica,sans-serif; font-size:48px; text-anchor:end;\" transform=\"rotate(0, 156.66, 445.182)\" x=\"156.66\" y=\"445.182\">0.75</text>\n",
       "</g>\n",
       "<g clip-path=\"url(#clip6100)\">\n",
       "<text style=\"fill:#000000; fill-opacity:1; font-family:Arial,Helvetica Neue,Helvetica,sans-serif; font-size:48px; text-anchor:end;\" transform=\"rotate(0, 156.66, 105.505)\" x=\"156.66\" y=\"105.505\">1.00</text>\n",
       "</g>\n",
       "<polyline clip-path=\"url(#clip6102)\" style=\"stroke:#009af9; stroke-width:4; stroke-opacity:1; fill:none\" points=\"\n",
       "  242.135,1446.71 262.146,1446.71 447.182,1446.71 558.381,1446.71 652.399,1446.71 754.528,1446.71 848.682,1446.71 949.625,1446.71 1066.58,1446.71 1118.54,1446.71 \n",
       "  1170.51,1446.71 1216.08,1446.71 1261.65,1446.71 1286.49,1420.48 1311.34,1387.53 1336.18,1354.59 1361.02,1321.65 1411,1255.37 1460.98,1189.09 1571.49,1042.53 \n",
       "  1676.65,903.085 1785.98,758.093 1878.02,636.041 1990.39,487.029 2096.01,346.953 2265.24,122.541 2291.28,88.0053 \n",
       "  \"/>\n",
       "<path clip-path=\"url(#clip6100)\" d=\"\n",
       "M1989.93 251.724 L2280.76 251.724 L2280.76 130.764 L1989.93 130.764  Z\n",
       "  \" fill=\"#ffffff\" fill-rule=\"evenodd\" fill-opacity=\"1\"/>\n",
       "<polyline clip-path=\"url(#clip6100)\" style=\"stroke:#000000; stroke-width:4; stroke-opacity:1; fill:none\" points=\"\n",
       "  1989.93,251.724 2280.76,251.724 2280.76,130.764 1989.93,130.764 1989.93,251.724 \n",
       "  \"/>\n",
       "<polyline clip-path=\"url(#clip6100)\" style=\"stroke:#009af9; stroke-width:4; stroke-opacity:1; fill:none\" points=\"\n",
       "  2013.93,191.244 2157.93,191.244 \n",
       "  \"/>\n",
       "<g clip-path=\"url(#clip6100)\">\n",
       "<text style=\"fill:#000000; fill-opacity:1; font-family:Arial,Helvetica Neue,Helvetica,sans-serif; font-size:48px; text-anchor:start;\" transform=\"rotate(0, 2181.93, 208.744)\" x=\"2181.93\" y=\"208.744\">y1</text>\n",
       "</g>\n",
       "</svg>\n"
      ]
     },
     "execution_count": 44,
     "metadata": {},
     "output_type": "execute_result"
    }
   ],
   "source": [
    "plot(reluu, -1.0, 1.0)"
   ]
  },
  {
   "cell_type": "code",
   "execution_count": 45,
   "metadata": {},
   "outputs": [
    {
     "data": {
      "text/plain": [
       "f (generic function with 2 methods)"
      ]
     },
     "execution_count": 45,
     "metadata": {},
     "output_type": "execute_result"
    }
   ],
   "source": [
    "f() = reluu.(randn(XRTArray{Float32}, 10, 10))"
   ]
  },
  {
   "cell_type": "code",
   "execution_count": 47,
   "metadata": {},
   "outputs": [
    {
     "data": {
      "text/plain": [
       "10×10 XRTArray{Float32,(10, 10),2}:\n",
       " 0.0        0.051176  0.0        0.0       …  0.0       0.0       1.71265 \n",
       " 0.0        0.0       0.0        0.376543     0.0       0.0       0.0     \n",
       " 0.0        0.0       0.697475   0.956612     0.480384  1.63574   0.790018\n",
       " 0.371215   0.0       0.0        1.0646       0.0       0.0       0.122993\n",
       " 0.718213   0.0       0.0        1.86766      1.33103   0.353125  0.189953\n",
       " 0.362054   0.0       2.74102    0.444311  …  1.0727    0.0       0.0     \n",
       " 0.0        0.0       0.0        0.0          0.563909  0.448646  0.0     \n",
       " 0.492345   0.0       0.0        0.252343     0.0       0.0       0.0     \n",
       " 0.392769   0.166597  0.534099   0.759939     0.0       0.109293  0.0     \n",
       " 0.0302317  0.0       0.0174316  0.0          0.0       0.0       0.630261"
      ]
     },
     "execution_count": 47,
     "metadata": {},
     "output_type": "execute_result"
    }
   ],
   "source": [
    "@tpu f()"
   ]
  },
  {
   "cell_type": "code",
   "execution_count": 49,
   "metadata": {},
   "outputs": [
    {
     "ename": "ErrorException",
     "evalue": "cannot assign variable Flux.Dense from module Main",
     "output_type": "error",
     "traceback": [
      "cannot assign variable Flux.Dense from module Main",
      "",
      "Stacktrace:",
      " [1] top-level scope at none:0"
     ]
    }
   ],
   "source": [
    "struct Dense{T,S,F}\n",
    "    W::T\n",
    "    b::S\n",
    "    σ::F\n",
    "end\n",
    "\n",
    "Base.show(io::IO, d::Dense) = print(io, \"Dense\", size(d.W))\n",
    "(d::Dense)(x) = d.σ.(d.W*x + d.b)"
   ]
  },
  {
   "cell_type": "code",
   "execution_count": null,
   "metadata": {},
   "outputs": [],
   "source": []
  }
 ],
 "metadata": {
  "kernelspec": {
   "display_name": "Julia 1.1.0-DEV",
   "language": "julia",
   "name": "julia-1.1"
  },
  "language_info": {
   "file_extension": ".jl",
   "mimetype": "application/julia",
   "name": "julia",
   "version": "1.1.0"
  }
 },
 "nbformat": 4,
 "nbformat_minor": 2
}
