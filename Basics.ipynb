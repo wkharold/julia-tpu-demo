{
 "cells": [
  {
   "cell_type": "code",
   "execution_count": 1,
   "metadata": {},
   "outputs": [
    {
     "data": {
      "text/plain": [
       "\"/home/wkh/XLA.jl/Project.toml\""
      ]
     },
     "execution_count": 1,
     "metadata": {},
     "output_type": "execute_result"
    }
   ],
   "source": [
    "using Pkg\n",
    "Pkg.activate(\"/home/wkh/XLA.jl\")"
   ]
  },
  {
   "cell_type": "code",
   "execution_count": 2,
   "metadata": {},
   "outputs": [
    {
     "name": "stderr",
     "output_type": "stream",
     "text": [
      "┌ Info: Precompiling Distributions [31c24e10-a181-5473-b8eb-7969acd0382f]\n",
      "└ @ Base loading.jl:1186\n",
      "┌ Warning: Package Distributions does not have Test in its dependencies:\n",
      "│ - If you have Distributions checked out for development and have\n",
      "│   added Test as a dependency but haven't updated your primary\n",
      "│   environment's manifest file, try `Pkg.resolve()`.\n",
      "│ - Otherwise you may need to report an issue with Distributions\n",
      "└ Loading Test into Distributions from project dependency, future warnings for Distributions are suppressed.\n"
     ]
    },
    {
     "name": "stdout",
     "output_type": "stream",
     "text": [
      "\u001b[32m\u001b[1m  Updating\u001b[22m\u001b[39m registry at `~/.julia/registries/General`\n",
      "\u001b[32m\u001b[1m  Updating\u001b[22m\u001b[39m git-repo `https://github.com/JuliaRegistries/General.git`\n",
      "\u001b[?25l\u001b[2K\u001b[?25h\u001b[32m\u001b[1m Resolving\u001b[22m\u001b[39m package versions...\n",
      "\u001b[32m\u001b[1m  Updating\u001b[22m\u001b[39m `~/XLA.jl/Project.toml`\n",
      "\u001b[90m [no changes]\u001b[39m\n",
      "\u001b[32m\u001b[1m  Updating\u001b[22m\u001b[39m `~/XLA.jl/Manifest.toml`\n",
      "\u001b[90m [no changes]\u001b[39m\n"
     ]
    }
   ],
   "source": [
    "using Distributions\n",
    "Pkg.resolve()\n",
    "using Distributions"
   ]
  },
  {
   "cell_type": "code",
   "execution_count": 4,
   "metadata": {},
   "outputs": [
    {
     "name": "stderr",
     "output_type": "stream",
     "text": [
      "┌ Info: Precompiling Plots [91a5bcdd-55d7-5caf-9e0b-520d859cae80]\n",
      "└ @ Base loading.jl:1186\n"
     ]
    }
   ],
   "source": [
    "using XLA, TensorFlow, Plots, BenchmarkTools"
   ]
  },
  {
   "cell_type": "code",
   "execution_count": 5,
   "metadata": {},
   "outputs": [
    {
     "name": "stderr",
     "output_type": "stream",
     "text": [
      "2019-11-15 18:12:21.790443: W tensorflow/core/distributed_runtime/rpc/grpc_session.cc:349] GrpcSession::ListDevices will initialize the session with an empty graph and other defaults because the session has not yet been created.\n"
     ]
    }
   ],
   "source": [
    "sess = Session(Graph(); target=\"grpc://10.240.1.2:8470\")\n",
    "run(sess, TensorFlow.Ops.configure_distributed_tpu())\n",
    "XLA.initialize!(\"10.240.1.2:8470\"; reset=true);"
   ]
  },
  {
   "cell_type": "code",
   "execution_count": 6,
   "metadata": {},
   "outputs": [
    {
     "data": {
      "text/plain": [
       "f (generic function with 1 method)"
      ]
     },
     "execution_count": 6,
     "metadata": {},
     "output_type": "execute_result"
    }
   ],
   "source": [
    "f(A) = A*A*A"
   ]
  },
  {
   "cell_type": "code",
   "execution_count": 7,
   "metadata": {},
   "outputs": [],
   "source": [
    "hostA = randn(Float32, 10000, 10000)\n",
    "A = tpu(hostA);"
   ]
  },
  {
   "cell_type": "code",
   "execution_count": 8,
   "metadata": {},
   "outputs": [
    {
     "name": "stdout",
     "output_type": "stream",
     "text": [
      "\u001b[32m\u001b[1m Resolving\u001b[22m\u001b[39m package versions...\n",
      "\u001b[32m\u001b[1m Installed\u001b[22m\u001b[39m BenchmarkTools ─ v0.4.3\n",
      "\u001b[32m\u001b[1m  Updating\u001b[22m\u001b[39m `~/XLA.jl/Project.toml`\n",
      " \u001b[90m [6e4b80f9]\u001b[39m\u001b[92m + BenchmarkTools v0.4.3\u001b[39m\n",
      "\u001b[32m\u001b[1m  Updating\u001b[22m\u001b[39m `~/XLA.jl/Manifest.toml`\n",
      " \u001b[90m [6e4b80f9]\u001b[39m\u001b[92m + BenchmarkTools v0.4.3\u001b[39m\n"
     ]
    },
    {
     "name": "stderr",
     "output_type": "stream",
     "text": [
      "┌ Info: Precompiling BenchmarkTools [6e4b80f9-dd63-53aa-95a3-0cdb28fa8baf]\n",
      "└ @ Base loading.jl:1186\n"
     ]
    }
   ],
   "source": [
    "Pkg.add(\"BenchmarkTools\")\n",
    "using BenchmarkTools"
   ]
  },
  {
   "cell_type": "code",
   "execution_count": 10,
   "metadata": {},
   "outputs": [
    {
     "name": "stdout",
     "output_type": "stream",
     "text": [
      "  8.765164 seconds (8 allocations: 762.940 MiB, 0.50% gc time)\n"
     ]
    }
   ],
   "source": [
    "@time f(hostA);"
   ]
  },
  {
   "cell_type": "code",
   "execution_count": 11,
   "metadata": {},
   "outputs": [
    {
     "name": "stdout",
     "output_type": "stream",
     "text": [
      "  9.591934 seconds (8 allocations: 762.940 MiB, 2.05% gc time)\n"
     ]
    }
   ],
   "source": [
    "@time f(hostA);"
   ]
  },
  {
   "cell_type": "code",
   "execution_count": 13,
   "metadata": {},
   "outputs": [
    {
     "ename": "TensorFlow.TFException",
     "evalue": "Tensorflow error: Status: Resource tuples/8917215225179496512/N10tensorflow18XRTTupleAllocationE does not exist.\n\t [[{{node XRTExecute_2}} = XRTExecute[Ninputs=1, _device=\"/job:tpu_worker/replica:0/task:0/device:TPU:0\"](XRTExecute_2/Const_5_S5, Const_4_G29, XRTExecute_2/Const_6_S7)]]\n\t [[{{node XRTExecute_2_G31}} = _Recv[client_terminated=false, recv_device=\"/job:tpu_worker/replica:0/task:0/device:CPU:0\", send_device=\"/job:tpu_worker/replica:0/task:0/device:TPU:0\", send_device_incarnation=2137547159556300961, tensor_name=\"edge_8_XRTExecute_2\", tensor_type=DT_INT64, _device=\"/job:tpu_worker/replica:0/task:0/device:CPU:0\"]()]]\n",
     "output_type": "error",
     "traceback": [
      "Tensorflow error: Status: Resource tuples/8917215225179496512/N10tensorflow18XRTTupleAllocationE does not exist.\n\t [[{{node XRTExecute_2}} = XRTExecute[Ninputs=1, _device=\"/job:tpu_worker/replica:0/task:0/device:TPU:0\"](XRTExecute_2/Const_5_S5, Const_4_G29, XRTExecute_2/Const_6_S7)]]\n\t [[{{node XRTExecute_2_G31}} = _Recv[client_terminated=false, recv_device=\"/job:tpu_worker/replica:0/task:0/device:CPU:0\", send_device=\"/job:tpu_worker/replica:0/task:0/device:TPU:0\", send_device_incarnation=2137547159556300961, tensor_name=\"edge_8_XRTExecute_2\", tensor_type=DT_INT64, _device=\"/job:tpu_worker/replica:0/task:0/device:CPU:0\"]()]]\n",
      "",
      "Stacktrace:",
      " [1] check_status at /home/wkh/.julia/packages/TensorFlow/eu9qM/src/core.jl:374 [inlined]",
      " [2] #run#60(::Bool, ::Function, ::Session, ::Array{TensorFlow.Port,1}, ::Array{Any,1}, ::Array{TensorFlow.Port,1}, ::Array{Ptr{Nothing},1}) at /home/wkh/.julia/packages/TensorFlow/eu9qM/src/run.jl:117",
      " [3] #run at ./array.jl:0 [inlined]",
      " [4] #run#69(::Base.Iterators.Pairs{Symbol,Bool,Tuple{Symbol},NamedTuple{(:async,),Tuple{Bool}}}, ::Function, ::Session, ::Array{Tensor{Int64},1}, ::Dict{Any,Any}) at /home/wkh/.julia/packages/TensorFlow/eu9qM/src/run.jl:233",
      " [5] #run at ./none:0 [inlined]",
      " [6] #run#70(::Base.Iterators.Pairs{Symbol,Bool,Tuple{Symbol},NamedTuple{(:async,),Tuple{Bool}}}, ::Function, ::Session, ::Tensor{Int64}, ::Dict{Any,Any}) at /home/wkh/.julia/packages/TensorFlow/eu9qM/src/run.jl:254",
      " [7] #run at ./none:0 [inlined]",
      " [8] #run#46 at /home/wkh/XLA.jl/src/multicore.jl:11 [inlined]",
      " [9] (::getfield(Base, Symbol(\"#kw##run\")))(::NamedTuple{(:async,),Tuple{Bool}}, ::typeof(run), ::TPUSession, ::Tensor{Int64}, ::Dict{Any,Any}) at ./none:0",
      " [10] macro expansion at ./gcutils.jl:87 [inlined]",
      " [11] (::getfield(XLA, Symbol(\"##run#22#30\")))(::Nothing, ::XLA.xrt.XRTExecutionConfig, ::Function, ::XLA.XRTCompilation, ::Function, ::Vararg{Any,N} where N) at /home/wkh/XLA.jl/src/xrt.jl:147",
      " [12] run(::XLA.XRTCompilation, ::Function, ::XRTArray{Float32,(10000, 10000),2}) at /home/wkh/XLA.jl/src/xrt.jl:143",
      " [13] top-level scope at util.jl:156",
      " [14] top-level scope at In[13]:1"
     ]
    }
   ],
   "source": [
    "@time @tpu f(A)"
   ]
  },
  {
   "cell_type": "code",
   "execution_count": null,
   "metadata": {},
   "outputs": [],
   "source": [
    "g() = randn(XRTArray{Float32}, 10000, 10000)\n",
    "@benchmark @tpu g()"
   ]
  },
  {
   "cell_type": "code",
   "execution_count": null,
   "metadata": {},
   "outputs": [],
   "source": [
    "h() = f(g())\n",
    "@benchmark @tpu h()"
   ]
  },
  {
   "cell_type": "code",
   "execution_count": null,
   "metadata": {},
   "outputs": [],
   "source": [
    "relu(x) = max(x, zero(x))"
   ]
  },
  {
   "cell_type": "code",
   "execution_count": null,
   "metadata": {},
   "outputs": [],
   "source": [
    "plot(relu, -1.0, 1.0)"
   ]
  },
  {
   "cell_type": "code",
   "execution_count": null,
   "metadata": {},
   "outputs": [],
   "source": [
    "r() = relu.(randn(XRTArray{Float32}, 16, 16))\n",
    "@tpu r()"
   ]
  },
  {
   "cell_type": "code",
   "execution_count": null,
   "metadata": {},
   "outputs": [],
   "source": [
    "struct Dense{T,S,F}\n",
    "    W::T\n",
    "    b::S\n",
    "    σ::F\n",
    "end\n",
    "\n",
    "Base.show(io::IO, d::Dense) = print(io, \"Dense\", size(d.W))\n",
    "(d::Dense)(x) = d.σ.(d.W*x + d.b)"
   ]
  },
  {
   "cell_type": "code",
   "execution_count": null,
   "metadata": {},
   "outputs": [],
   "source": [
    "make_one(A) = Dense(A, zeros(XRTArray{Float32, (16,), 1}), relu)"
   ]
  },
  {
   "cell_type": "code",
   "execution_count": null,
   "metadata": {},
   "outputs": [],
   "source": [
    "dense = @tpu make_one(@tpu r())"
   ]
  },
  {
   "cell_type": "code",
   "execution_count": null,
   "metadata": {},
   "outputs": [],
   "source": [
    "df(dense) = dense(randn(XRTArray{Float32}, 16))"
   ]
  },
  {
   "cell_type": "code",
   "execution_count": null,
   "metadata": {},
   "outputs": [],
   "source": [
    "@tpu df(dense)"
   ]
  },
  {
   "cell_type": "code",
   "execution_count": null,
   "metadata": {},
   "outputs": [],
   "source": []
  }
 ],
 "metadata": {
  "kernelspec": {
   "display_name": "Julia 1.1.0-DEV",
   "language": "julia",
   "name": "julia-1.1"
  },
  "language_info": {
   "file_extension": ".jl",
   "mimetype": "application/julia",
   "name": "julia",
   "version": "1.1.0"
  }
 },
 "nbformat": 4,
 "nbformat_minor": 2
}
